{
 "cells": [
  {
   "cell_type": "markdown",
   "metadata": {},
   "source": [
    "# Scheduling"
   ]
  },
  {
   "cell_type": "markdown",
   "metadata": {},
   "source": [
    "El <b>scheduler</b> conocido en espaniol como el <b>planificador</b> es el que se encarga de darle la ilucion al programador de que todos los programas se estan ejecutando al mismo tiempo. La realidad es muy diferente, los programas se ejecutan un <b>slice</b> de tiempo cada uno. Unos con mas priodidad que otros."
   ]
  },
  {
   "cell_type": "markdown",
   "metadata": {},
   "source": [
    "Asi que es el <b>scheduler</b> el que decide cual es el siguiente programa a ejecutar y cual sera el slice de tiempo que le asignara."
   ]
  },
  {
   "cell_type": "markdown",
   "metadata": {},
   "source": [
    "<hr>"
   ]
  },
  {
   "cell_type": "markdown",
   "metadata": {},
   "source": [
    "## Metricas"
   ]
  },
  {
   "cell_type": "markdown",
   "metadata": {},
   "source": [
    "### Turnaround Time"
   ]
  },
  {
   "cell_type": "markdown",
   "metadata": {},
   "source": [
    "\\begin{equation} \n",
    "\\large T_{turnaround} = T_{completion} - T_{arrival}\n",
    "\\end{equation}"
   ]
  },
  {
   "cell_type": "markdown",
   "metadata": {},
   "source": [
    "<b>Observacion</b>: Esta es una <b>metrica</b> de <b>performance</b>."
   ]
  },
  {
   "cell_type": "markdown",
   "metadata": {},
   "source": [
    "Donde:\n",
    "- <b>Time completion</b>: Es el tiempo que se tarda en completar la tarea.\n",
    "- <b>Time arrival</b>: Es el tiempo que tarda en arrivar la tarea."
   ]
  },
  {
   "cell_type": "markdown",
   "metadata": {},
   "source": [
    "### Response Time"
   ]
  },
  {
   "cell_type": "markdown",
   "metadata": {},
   "source": [
    "El tiempo que que tarda una tarea desde que llego hasta que es corrida por el scheduler por primera ves."
   ]
  },
  {
   "cell_type": "markdown",
   "metadata": {},
   "source": [
    "\\begin{equation} \n",
    "\\large T_{response} = T_{firstrun} - T_{arrival}\n",
    "\\end{equation}"
   ]
  },
  {
   "cell_type": "markdown",
   "metadata": {},
   "source": [
    "Donde:\n",
    "- <b>Time firstrun</b>: Es el tiempo que en ser corrida por primera ves por el scheduler.\n",
    "- <b>Time arrival</b>: Es el tiempo que tarda en arrivar la tarea."
   ]
  },
  {
   "cell_type": "markdown",
   "metadata": {},
   "source": [
    "<hr>"
   ]
  },
  {
   "cell_type": "markdown",
   "metadata": {},
   "source": [
    "## Politicas "
   ]
  },
  {
   "cell_type": "markdown",
   "metadata": {},
   "source": [
    "## First In, First Out (FIFO)"
   ]
  },
  {
   "cell_type": "markdown",
   "metadata": {},
   "source": [
    "Esta es la politica mas simple que existe, es simplemente que el scheduler procese los programas por orden de llegada y uno a la ves. Osea que hasta que no termine por completo de ejecutar uno, no siga con el siguiente."
   ]
  },
  {
   "cell_type": "markdown",
   "metadata": {},
   "source": [
    "Veamos un <b>ejemplo</b>:"
   ]
  },
  {
   "cell_type": "markdown",
   "metadata": {},
   "source": [
    "Tenemos tres programas el A, el B y el C. Llega primero el A, luego el B, y por ultimo llega el C (pero aproximadamente al mismo tiempo => time arrival es 0 en los 3). Entonces como se ejecutan por orden de llegada pasa lo siguiente:"
   ]
  },
  {
   "cell_type": "markdown",
   "metadata": {},
   "source": [
    "<img src=\"Imagenes/scheduler_fifo.png\">"
   ]
  },
  {
   "cell_type": "markdown",
   "metadata": {},
   "source": [
    "El A tarda 10 segundos y el B tarda lo que tardo el A mas lo que tardo el B y por ultimo el C tarda lo que tardo el A mas lo que tardo el B mas lo que tardo el C. Entonces el A tardo 10 segundos, el B 20 segundos y el C tardo 30 segundos. Por lo tanto el <b>turnaround time</b> promedio es (10 + 20 + 30) / 3 = 60 / 3 = 20 segundos. "
   ]
  },
  {
   "cell_type": "markdown",
   "metadata": {},
   "source": [
    "En este caso todos los programas tardaron lo mismo en ejecurse, el tema es cuando el que llega primero es el que mas tarda en ejecutarse, ahi surge un problema y es que el <b>turnaround time</b> promedio aumenta mucho porque los siguientes programas tuvieron que esperar que el primero que es el mas tarda, termine. Este es el efecto <b>Convoy</b>."
   ]
  },
  {
   "cell_type": "markdown",
   "metadata": {},
   "source": [
    "<img src=\"Imagenes/sheduler_convoy_effect.png\">"
   ]
  },
  {
   "cell_type": "markdown",
   "metadata": {},
   "source": [
    "Tiempo promedio: (100 + 110 + 120) / 3 = 110"
   ]
  },
  {
   "cell_type": "markdown",
   "metadata": {},
   "source": [
    "## Shortest Job First (SJF)"
   ]
  },
  {
   "cell_type": "markdown",
   "metadata": {},
   "source": [
    "Esta politica se tiene la mejora de que ejecuta los programas en orden de lo que tardan, de menor a mayor. Esto evita el efecto Convoy."
   ]
  },
  {
   "cell_type": "markdown",
   "metadata": {},
   "source": [
    "<img src=\"Imagenes/scheduler_shortest_job_first.png\">"
   ]
  },
  {
   "cell_type": "markdown",
   "metadata": {},
   "source": [
    "<b>turnaround time</b>: (10 + 20 + 120) / 3 = 50"
   ]
  },
  {
   "cell_type": "markdown",
   "metadata": {},
   "source": [
    "Ahora, acerquemosnos un poc mas a la realidad, todos los programas no tienen porque llegar al mismo tiempo. Supongamos que primero llega el A en t = 0, y luego llega el B y el C en t = 10. Pasaria lo siguiente."
   ]
  },
  {
   "cell_type": "markdown",
   "metadata": {},
   "source": [
    "<img src=\"Imagenes/scheduler_shortest_job_first_2.png\">"
   ]
  },
  {
   "cell_type": "markdown",
   "metadata": {},
   "source": [
    "Por que el B y el C tarden menos, como el A llego primero lo comenzo a ejecutar y segun esta politica no puede ejecutar un context switch por lo tanto, el <b>time turnaround</b> es:"
   ]
  },
  {
   "cell_type": "markdown",
   "metadata": {},
   "source": [
    "\\begin{equation} \n",
    "\\large T_{turnaround} = \\frac{(100 - 0) + (110 - 10) + (120 - 10)}{3} = 103.3\n",
    "\\end{equation}"
   ]
  },
  {
   "cell_type": "markdown",
   "metadata": {},
   "source": [
    "Es bastante, asi que vamos a tener que seguir implentando mejoras."
   ]
  },
  {
   "cell_type": "markdown",
   "metadata": {},
   "source": [
    "## Shortest Time-To-Completion First (STCF)"
   ]
  },
  {
   "cell_type": "markdown",
   "metadata": {},
   "source": [
    "Esta politica habilita el uso del <b>context switch</b>. Sigamos con el ejemplo anterior para verlo."
   ]
  },
  {
   "cell_type": "markdown",
   "metadata": {},
   "source": [
    "<img src=\"Imagenes/scheduler_shortest_job_first_3.png\">"
   ]
  },
  {
   "cell_type": "markdown",
   "metadata": {},
   "source": [
    "Las tareas llegan en el mismo orden y tiempo que el ejemplo anterior. Entonces comienza a ejecutar la tarea A, luego llegan la B y la C. Como esta politica tiene la habilidad de hacer context switch, y le interesa dar al usuario un mejor <b>response time</b> va a correr la tarea B y luego la C que tienen menor <b>time to completion</b> es decir son tareas mas cortas. Veamos como mejora el <b>time turnaround</b>:"
   ]
  },
  {
   "cell_type": "markdown",
   "metadata": {},
   "source": [
    "\\begin{equation} \n",
    "\\large T_{turnaround} = \\frac{(120 - 0) + (20 - 10) + (30 - 10)}{3} = 50\n",
    "\\end{equation}"
   ]
  },
  {
   "cell_type": "markdown",
   "metadata": {},
   "source": [
    "## Round Robin (RR)"
   ]
  },
  {
   "cell_type": "markdown",
   "metadata": {},
   "source": [
    "Esta politica introduce una significativa mejora en el <b>response time</b>. Ya que no espera a ejecutar una tarea por completo para pasar a la siguiente, sino que ejecuta un cachito de tiempo cada tarea, esto hace que el usuario valla teniendo feedback. A este cachito de tiempo se le llama <b>time slice</b>, tambien conocido como <b>scheduling quantum</b>. Por esta razon es que a Round Robin a veces se le llama <b>Time Slicing</b>"
   ]
  },
  {
   "cell_type": "markdown",
   "metadata": {},
   "source": [
    "<img src=\"Imagenes/scheduler_round_robin.png\">"
   ]
  },
  {
   "cell_type": "markdown",
   "metadata": {},
   "source": [
    "Veamos con <b>ejemplo</b> como mejora el <b>response time</b>. Supongamos que tenemos 3 tareas, A, B, C, todas llegan al mismo tiempo, cada una tarda en completarse 5 segundos (ver figura de arriba). Si usamos la politica SJF el <b>response time</b> es [(0 - 0) + (5 - 0) + (10 - 0)] / 3 = 5, ahora bien si usamos la politica <b>RR</b> el <b>response time</b> es (0 + 1 + 2) / 3 = 1."
   ]
  }
 ],
 "metadata": {
  "kernelspec": {
   "display_name": "Python 3",
   "language": "python",
   "name": "python3"
  },
  "language_info": {
   "codemirror_mode": {
    "name": "ipython",
    "version": 3
   },
   "file_extension": ".py",
   "mimetype": "text/x-python",
   "name": "python",
   "nbconvert_exporter": "python",
   "pygments_lexer": "ipython3",
   "version": "3.7.3"
  }
 },
 "nbformat": 4,
 "nbformat_minor": 2
}
