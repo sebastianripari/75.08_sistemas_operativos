{
 "cells": [
  {
   "cell_type": "markdown",
   "metadata": {},
   "source": [
    "# Scheduling"
   ]
  },
  {
   "cell_type": "markdown",
   "metadata": {},
   "source": [
    "El <b>scheduler</b> conocido en espaniol como el <b>planificador</b> es el que se encarga de darle la ilucion al programador de que todos los programas se estan ejecutando al mismo tiempo. La realidad es muy diferente, los programas se ejecutan un <b>slice</b> de tiempo cada uno. Unos con mas priodidad que otros."
   ]
  },
  {
   "cell_type": "markdown",
   "metadata": {},
   "source": [
    "Asi que es el <b>scheduler</b> el que decide cual es el siguiente programa a ejecutar y cual sera el slice de tiempo que le asignara."
   ]
  }
 ],
 "metadata": {
  "kernelspec": {
   "display_name": "Python 3",
   "language": "python",
   "name": "python3"
  },
  "language_info": {
   "codemirror_mode": {
    "name": "ipython",
    "version": 3
   },
   "file_extension": ".py",
   "mimetype": "text/x-python",
   "name": "python",
   "nbconvert_exporter": "python",
   "pygments_lexer": "ipython3",
   "version": "3.7.3"
  }
 },
 "nbformat": 4,
 "nbformat_minor": 2
}
