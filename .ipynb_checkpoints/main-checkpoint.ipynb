{
 "cells": [
  {
   "cell_type": "markdown",
   "metadata": {},
   "source": [
    "# Bibliografia "
   ]
  },
  {
   "cell_type": "markdown",
   "metadata": {},
   "source": [
    "## Operating Systems - Principies and Practice | Anderson and Dahlin"
   ]
  },
  {
   "cell_type": "markdown",
   "metadata": {},
   "source": [
    "<img src=\"Imagenes/book_sisop_anderson_dahlin.png\">"
   ]
  },
  {
   "cell_type": "markdown",
   "metadata": {},
   "source": [
    "Este es un libro bien general sobre los temas de la materia. Hace el estudio dividiendo en 4 partes."
   ]
  },
  {
   "cell_type": "markdown",
   "metadata": {},
   "source": [
    "## Operating Systems - Three Easy Pieces | Dusseau"
   ]
  },
  {
   "cell_type": "markdown",
   "metadata": {},
   "source": [
    "<img src=\"Imagenes/book_sisop_three_easy_pieces.png\">"
   ]
  },
  {
   "cell_type": "markdown",
   "metadata": {},
   "source": [
    "Esta muy bueno, es bastante practico. Hace el estudio del Sistema Operativo en 3 partes. Es gratis. Tiene un estilo mas ameno, charlado, con chistes, suele gustar mas..."
   ]
  },
  {
   "cell_type": "markdown",
   "metadata": {},
   "source": [
    "<hr>"
   ]
  },
  {
   "cell_type": "markdown",
   "metadata": {},
   "source": [
    "# Introduccion"
   ]
  },
  {
   "cell_type": "markdown",
   "metadata": {},
   "source": [
    "El porque el Sistema Operativo UNIX sigue teniendo vigencia desde 1970 es probablemente porque los programadores hacen cada ves mas \"Calm Soft\" es decir no se meten en algo dificil como llevar a cabo un Sistema Operativo, sino en cosas mas rapidas, ya que hacer un S.O no es un una cosa que se haga de un dia para el otro."
   ]
  },
  {
   "cell_type": "markdown",
   "metadata": {},
   "source": [
    "El desarrollo de un S.O es interesante por el motivo de que para su desarrollo converge muchos temas, como por ejemplo estructuras de datos. Todas las estructuras de datos estan en el Kernel de Linux. Ademas usa conceptos de la vida contidiana, por ejemplo el concepto de hacer muchas cosas a la ves, el multitasking, de hecho es concurrencia.  "
   ]
  },
  {
   "cell_type": "markdown",
   "metadata": {},
   "source": [
    "Basicamente un S.O tiene 3 o 4 aristas importantes segun se lo vea como Dahlin o como Dusseau. Estas son:\n",
    "- Proceso\n",
    "- File System\n",
    "- Memoria\n",
    "- Concurrencia"
   ]
  }
 ],
 "metadata": {
  "kernelspec": {
   "display_name": "Python 3",
   "language": "python",
   "name": "python3"
  },
  "language_info": {
   "codemirror_mode": {
    "name": "ipython",
    "version": 3
   },
   "file_extension": ".py",
   "mimetype": "text/x-python",
   "name": "python",
   "nbconvert_exporter": "python",
   "pygments_lexer": "ipython3",
   "version": "3.6.4"
  }
 },
 "nbformat": 4,
 "nbformat_minor": 2
}
