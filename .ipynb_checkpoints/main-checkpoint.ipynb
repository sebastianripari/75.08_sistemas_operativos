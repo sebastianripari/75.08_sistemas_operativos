{
 "cells": [
  {
   "cell_type": "markdown",
   "metadata": {},
   "source": [
    "# Bibliografia "
   ]
  },
  {
   "cell_type": "markdown",
   "metadata": {},
   "source": [
    "## Operating Systems - Principies and Practice | Anderson and Dahlin"
   ]
  },
  {
   "cell_type": "markdown",
   "metadata": {},
   "source": [
    "<img src=\"Imagenes/book_sisop_anderson_dahlin.png\">"
   ]
  },
  {
   "cell_type": "markdown",
   "metadata": {},
   "source": [
    "Este es un libro bien general sobre los temas de la materia. Hace el estudio dividiendo en 4 partes."
   ]
  },
  {
   "cell_type": "markdown",
   "metadata": {},
   "source": [
    "## Operating Systems - Three Easy Pieces | Dusseau"
   ]
  },
  {
   "cell_type": "markdown",
   "metadata": {},
   "source": [
    "<img src=\"Imagenes/book_sisop_three_easy_pieces.png\">"
   ]
  },
  {
   "cell_type": "markdown",
   "metadata": {},
   "source": [
    "Esta muy bueno, es bastante practico. Hace el estudio del Sistema Operativo en 3 partes. Es gratis. Tiene un estilo mas ameno, charlado, con chistes, suele gustar mas..."
   ]
  },
  {
   "cell_type": "markdown",
   "metadata": {},
   "source": [
    "<hr>"
   ]
  },
  {
   "cell_type": "markdown",
   "metadata": {},
   "source": [
    "# Introduccion"
   ]
  },
  {
   "cell_type": "markdown",
   "metadata": {},
   "source": [
    "El porque el Sistema Operativo UNIX sigue teniendo vigencia desde 1970 es probablemente porque los programadores hacen cada ves mas \"Calm Soft\" es decir no se meten en algo dificil como llevar a cabo un Sistema Operativo, sino en cosas mas rapidas, ya que hacer un S.O no es un una cosa que se haga de un dia para el otro."
   ]
  },
  {
   "cell_type": "markdown",
   "metadata": {},
   "source": [
    "El desarrollo de un S.O es interesante por el motivo de que para su desarrollo converge muchos temas, como por ejemplo estructuras de datos. Todas las estructuras de datos estan en el Kernel de Linux. Ademas usa conceptos de la vida contidiana, por ejemplo el concepto de hacer muchas cosas a la ves, el multitasking, de hecho es concurrencia. O la cuestion de poder elegir ir por lugares mas rapidos o mas lentos, por ejemplo filas del supermercado. O el tema de compartir recursos, que se da en la vida real tambien."
   ]
  },
  {
   "cell_type": "markdown",
   "metadata": {},
   "source": [
    "Basicamente un S.O tiene 3 o 4 aristas importantes segun se lo vea como Dahlin o como Dusseau. Estas son:\n",
    "- Proceso\n",
    "- File System\n",
    "- Memoria\n",
    "- Concurrencia"
   ]
  },
  {
   "cell_type": "markdown",
   "metadata": {},
   "source": [
    "Un S.O no es un programa pequenio, tiene muchisimas lineas de codigo."
   ]
  },
  {
   "cell_type": "markdown",
   "metadata": {},
   "source": [
    "Otra cosa a destacar, es que un S.O se queda solamente en el ambito de la PC. Sino que puede estar en diferentes aparatos electronicos como Celulares, Tablets, etc."
   ]
  },
  {
   "cell_type": "markdown",
   "metadata": {},
   "source": [
    "# Definicion de un Sistema Operativo"
   ]
  },
  {
   "cell_type": "markdown",
   "metadata": {},
   "source": [
    "No es como en matematica que las cosas tienen una unica definicion. Los informaticos no solemos tener una unica definicion para los terminos. La definicion de lo que es un Sistema Operativo difiere dependiendo el autor, pero logicamente todas estas son parecidas y convergen a la misma idea."
   ]
  },
  {
   "cell_type": "markdown",
   "metadata": {},
   "source": [
    "### Para Dahlin"
   ]
  },
  {
   "cell_type": "markdown",
   "metadata": {},
   "source": [
    "Un Sistema Operativo es la capa de software que maneja los recursos de una computadora para sus usuarios y aplicaciones."
   ]
  },
  {
   "cell_type": "markdown",
   "metadata": {},
   "source": [
    "### Para Commer"
   ]
  },
  {
   "cell_type": "markdown",
   "metadata": {},
   "source": [
    "Un Sistema Operativo esta diseniado para ocultar detalles de hardware de bajo nivel y para crear una maquina abstracta que proporcione las aplicaciones y servicios de alto nivel."
   ]
  },
  {
   "cell_type": "markdown",
   "metadata": {},
   "source": [
    "### Para Bach"
   ]
  },
  {
   "cell_type": "markdown",
   "metadata": {},
   "source": [
    "El Sistema Operativo interactua directamente con el hardware proporcionando servicios comunes a los programas y aislandos de idiosincracia de hardware."
   ]
  },
  {
   "cell_type": "markdown",
   "metadata": {},
   "source": [
    "### Para Stevens "
   ]
  },
  {
   "cell_type": "markdown",
   "metadata": {},
   "source": [
    "Un Sistema Operativo puede definirse como el software que controla los recursos de hardware y provee un ambiente en el cual los programas pueden ejecutarse."
   ]
  },
  {
   "cell_type": "markdown",
   "metadata": {},
   "source": [
    "Todos los autores masomenos coiniden que lo que hace un S.O es posibilitar la abstraccion del hardware de no tener que interactuar con el, para posibilitar el mas facil desarrollo y uso de los programas."
   ]
  },
  {
   "cell_type": "markdown",
   "metadata": {},
   "source": [
    "## Virtualizar en un Sistema Operativo"
   ]
  },
  {
   "cell_type": "markdown",
   "metadata": {},
   "source": [
    "Es el mecanismo por el cual podemos abstraernos del hardware. En ves de utilizarlo directamente, usamos una version simplificada del mismo. Por ejemplo, si tenemos el procesador Core 2 Duo, la simplificacion que utilizamos entonces lo utilizara con el nombre \"procesador\", no hace falta que tengamos en cuenta que modelo es, nos referimos simplemente a el como procesador. Ahi le sacamos un monton de detalles que no nos interesan."
   ]
  },
  {
   "cell_type": "markdown",
   "metadata": {},
   "source": [
    "Para lograr esto el S.O tiene que cumplir estos 3 roles:\n",
    "- <b>Referi</b>: Es basicamente administrar como van a ser utilizados los recursos fisicos de la computadora. Por ejemplo \"ahora el disco lo usa este programa, y la memoria este otro, y el procesador este, tanto tiempo...\"\n",
    "- <b>Ilucionista</b>: Ya que te hace creer que el procesador todo el tiempo esta ejecutando el mismo programa en tiempo real, pero la realidad es que le asigna un poco de tiempo a cada proceso y da la ilucion de ejecucion en tiempo real.\n",
    "- <b>Pegamento (Glu)</b>: Tiene que aver una consistencia/coherencia entre todos los servicios que brinda. Por ejemplo que cortar es con Ctrl X + Ctrl V. "
   ]
  },
  {
   "cell_type": "markdown",
   "metadata": {},
   "source": [
    "## Dispositivos son Archivos en Unix"
   ]
  },
  {
   "cell_type": "markdown",
   "metadata": {},
   "source": [
    "Todos los dipositivos en UNIX son tratados como archivos. Si nos ponemos a explocar el file system en un unix encontraremos que para cada dispositivo conectado existe un archivo. Por ejemplo el Mouse es un archivo. Vallamos a <b>/dev</b> para ver esto."
   ]
  },
  {
   "cell_type": "markdown",
   "metadata": {},
   "source": [
    "Esto facilita las cosas, por ejemplo cuando queremos escribir en un archivo algo eso lo sabemos hacer muy facilmente, pero si por ejemplo quisieramos imprimir eso en papal, se lo deberiamos mandar al dispositivo de la impresora, y esto como tambien ahora aprendimos que es un archivo seria muy similar."
   ]
  },
  {
   "cell_type": "markdown",
   "metadata": {},
   "source": [
    "Entonces lo que logra todo esto, es una gran abstraccion. Genera una coherencia de que lo que queremos escribir en un archivo se hace de la misma forma que si lo queremos escribir en papel real por medio de una impresora. Esto es el <b>Pegamento</b>"
   ]
  }
 ],
 "metadata": {
  "kernelspec": {
   "display_name": "Python 3",
   "language": "python",
   "name": "python3"
  },
  "language_info": {
   "codemirror_mode": {
    "name": "ipython",
    "version": 3
   },
   "file_extension": ".py",
   "mimetype": "text/x-python",
   "name": "python",
   "nbconvert_exporter": "python",
   "pygments_lexer": "ipython3",
   "version": "3.6.4"
  }
 },
 "nbformat": 4,
 "nbformat_minor": 2
}
