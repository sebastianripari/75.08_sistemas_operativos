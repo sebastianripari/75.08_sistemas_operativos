{
 "cells": [
  {
   "cell_type": "markdown",
   "metadata": {},
   "source": [
    "# Physical Pages Management"
   ]
  },
  {
   "cell_type": "markdown",
   "metadata": {},
   "source": [
    "### Lista de paginas"
   ]
  },
  {
   "cell_type": "markdown",
   "metadata": {},
   "source": [
    "```c\n",
    "struct PageInfo *pages;\n",
    "```"
   ]
  },
  {
   "cell_type": "markdown",
   "metadata": {},
   "source": [
    "### PageInfo"
   ]
  },
  {
   "cell_type": "markdown",
   "metadata": {},
   "source": [
    "Esta estructura es la que modeliza una pagina. Es el siguiente <b>struct</b>:"
   ]
  },
  {
   "cell_type": "markdown",
   "metadata": {},
   "source": [
    "Contiene dos atributos:\n",
    "- <b>pp_link</b>: Es el link hacia la siguiente pagina libre.\n",
    "- <b>pp_ref</b>: Es la cantidad de referencias hacia esta pagina."
   ]
  },
  {
   "cell_type": "markdown",
   "metadata": {},
   "source": [
    "```c\n",
    "struct PageInfo {\n",
    "\t// Next page on the free list.\n",
    "\tstruct PageInfo *pp_link;\n",
    "\n",
    "\t// pp_ref is the count of pointers (usually in page table entries)\n",
    "\t// to this page, for pages allocated using page_alloc.\n",
    "\t// Pages allocated at boot time using pmap.c's\n",
    "\t// boot_alloc do not have valid reference count fields.\n",
    "\n",
    "\tuint16_t pp_ref;\n",
    "};\n",
    "\n",
    "```"
   ]
  },
  {
   "cell_type": "markdown",
   "metadata": {},
   "source": [
    "### Lista de paginas libres"
   ]
  },
  {
   "cell_type": "markdown",
   "metadata": {},
   "source": [
    "Observando el siguiente esquema de ejemplo vemos que usando el atributo <b>pp_link</b> cada elemento del array <b>pages</b>, osea cada pagina apunta a la siguiente libre. Ademas se muestra como la variable <b>page_free_list</b> apunta a la primera pagina libre."
   ]
  },
  {
   "cell_type": "markdown",
   "metadata": {},
   "source": [
    "<img src=\"Imagenes/pages.jpg\">"
   ]
  },
  {
   "cell_type": "markdown",
   "metadata": {},
   "source": [
    "### Obtener una pagina libre"
   ]
  },
  {
   "cell_type": "markdown",
   "metadata": {},
   "source": [
    "Esto se logra haciendo uso de la funcion <b>page_alloc</b>. Esta funcion obtiene una pagina libre de la lista de paginas para que la pueda utilizar un programa."
   ]
  },
  {
   "cell_type": "markdown",
   "metadata": {},
   "source": [
    "```c\n",
    "struct PageInfo *\n",
    "page_alloc(int alloc_flags)\n",
    "{\t\n",
    "\t// freepage := la primera pagina en la lista de paginas libres\n",
    "\tstruct PageInfo* freepage = page_free_list;\n",
    "\n",
    "\t// No hay una pagina fisica libre, por lo tanto retornamos NULL\n",
    "\tif (freepage == NULL) return NULL;\n",
    "\n",
    "\t// actualizamos la lista sacando la pagina que vamos a retornar\n",
    "\tpage_free_list = page_free_list->pp_link;\n",
    "\n",
    "\t// si 'alloc_flags' indica ALLOC_ZERO, entonces tenemos que\n",
    "\t// rellenar con ceros\n",
    "\tif (alloc_flags & ALLOC_ZERO){\n",
    "\t\t// agarramos la direccion virtual de la pagina\n",
    "\t\tvoid* va = page2kva(freepage);\n",
    "\t\t// para luego inicialziarla completamente con ceros\n",
    "\t\tmemset(va, 0, PGSIZE);\n",
    "\t} \n",
    "\t\n",
    "\t// incializar el contador de las referencias de esta pagina\n",
    "\tfreepage->pp_ref = 0;\n",
    "\t\n",
    "\t// limpiamos el valor de pp_link, ya que no lo necesita mas \n",
    "\t// debido a que ya no pertenece a la lista\n",
    "\tfreepage->pp_link = NULL;\n",
    "\n",
    "\t// retornamos finalmente la info de la pagina alocada\n",
    "\treturn freepage;\n",
    "}\n",
    "```"
   ]
  },
  {
   "cell_type": "markdown",
   "metadata": {},
   "source": [
    "### Inicializar la lista de paginas"
   ]
  },
  {
   "cell_type": "markdown",
   "metadata": {},
   "source": [
    "Esta inicializacion es simplemente indicarle pagina cual es su siguiente libre. Y inicializar la cantidad de referencias a cada una de ellas en 0."
   ]
  },
  {
   "cell_type": "markdown",
   "metadata": {},
   "source": [
    "```c\n",
    "void\n",
    "page_init(void)\n",
    "{\n",
    "\tint top_boot_alloc = (int)PADDR(boot_alloc(0));\n",
    "\tfor (size_t i = 0 ; i < npages; i++) {\n",
    "\t  /************ Ilustracion de la memoria fisica, para identificar los sectores libres *****************\n",
    "\t  | 0 -------- npages_basemem -------- IOPHYSMEM --------- EXTPHYSMEM -------- top_boot_alloc -------- |\n",
    "\t  *****************************************************************************************************/\n",
    "\t\t// validamos de no colocar una pagina que no esta libre a la lista de paginas libres\n",
    "\t\tif (\n",
    "\t\t\t((i > 0 && i<npages_basemem) ||\n",
    "\t\t\t(i >= top_boot_alloc/PGSIZE))\n",
    "\t\t) {\n",
    "\t\t\t// inicializamos el contador de referencias de la pagina en cero.\n",
    "\t\t\tpages[i].pp_ref = 0;\n",
    "\t\t\t// introducimos esta pagina a el principio de la lista de paginas.\n",
    "\t\t\tpages[i].pp_link = page_free_list;\n",
    "\t\t\tpage_free_list = &pages[i];\n",
    "\t\t}\n",
    "\t}\n",
    "}\n",
    "```"
   ]
  },
  {
   "cell_type": "markdown",
   "metadata": {},
   "source": [
    "### Liberar una pagina"
   ]
  },
  {
   "cell_type": "markdown",
   "metadata": {},
   "source": [
    "Esto se logra haciendo uso de la funcion <b>page_free</b>. Esta funcion agarra una pagina que no pertenece a la lista de paginas libre, y la vuelve a poner en ella. Para que posteriormente pueda ser utilizada por otro programa."
   ]
  },
  {
   "cell_type": "markdown",
   "metadata": {},
   "source": [
    "```c\n",
    "void\n",
    "page_free(struct PageInfo *pp)\n",
    "{\n",
    "\t// Si el contador de referencias de esta pagina es mayor a cero\n",
    "\t// no la podemos liberar ya que los que estan apuntando hacia ella\n",
    "\t// quedarian apuntando a algo invalido, por lo tanto evitamos esto\n",
    "\t// emitiendo un 'panic' con el mensaje correspondiente\n",
    "\tif ((pp->pp_ref != 0) || (pp->pp_link != NULL))\n",
    "\t\tpanic (\"Tried to free memory without pp_ref!=0 or pp_link!=NULL\");\n",
    "\n",
    "\t// introducimos la pagina a la lista de paginas libres, para que \n",
    "\t// pueda ser usada posteriormente.\n",
    "\tpp->pp_link = page_free_list;\n",
    "\tpage_free_list = pp;\n",
    "}\n",
    "```"
   ]
  },
  {
   "cell_type": "markdown",
   "metadata": {},
   "source": [
    "# Memoria Virtual"
   ]
  },
  {
   "cell_type": "markdown",
   "metadata": {},
   "source": [
    "Los programas y el mismo kernel utilizan direcciones virtuales, no fisicas. Estas direcciones virtuales son traducidas a direcciones fisicas como luego veremos. Este sistema de memoria hace que el programa crea que tiene infinita memoria."
   ]
  },
  {
   "cell_type": "markdown",
   "metadata": {},
   "source": [
    "Esquema de como funciona el sistema de traduccion."
   ]
  },
  {
   "cell_type": "markdown",
   "metadata": {},
   "source": [
    "<img src=\"Imagenes/x86-addr-translation.gif\">"
   ]
  },
  {
   "cell_type": "markdown",
   "metadata": {},
   "source": [
    "Integrantes de este modelo:\n",
    "- <b>Page Directory</b>: Este es una tabla que contiene las direcciones de todas las tablas de paginas.\n",
    "- <b>Page Table</b>: Esta es una tabla que contiene las direcciones fisicas (phisycal address) de las paginas (ppa).  \n"
   ]
  },
  {
   "cell_type": "markdown",
   "metadata": {},
   "source": [
    "### Virtual Address"
   ]
  },
  {
   "cell_type": "markdown",
   "metadata": {},
   "source": [
    "<img src=\"Imagenes/x86-addr-format.gif\">"
   ]
  },
  {
   "cell_type": "markdown",
   "metadata": {},
   "source": [
    "En la foto vemos la estructura que tiene una direccion virtual. \n",
    "- <b>PDE</b> (10 bits): Es el indice en el directorio de paginas.\n",
    "- <b>PTE</b> (10 bits): Es el indice en la tabla de paginas.\n",
    "- <b>Offset</b> (12 bits): Es el offset en la pagina."
   ]
  },
  {
   "cell_type": "markdown",
   "metadata": {},
   "source": [
    "### Insertar una Pagina"
   ]
  },
  {
   "cell_type": "markdown",
   "metadata": {},
   "source": [
    "Para insertar una <b>pagina</b> a la <b>tabla de paginas</b> usamos la funcion <b>page_insert</b> que recibe como parametro la pagina y la <b>direccion virtual</b>. Con la direccion virtual obtenemos la entrada en la tabla de paginas donde va a estar mapeada dicha pagina. Por lo tanto en esta entrada colocamos la direccion fisica de esta pagina. Esta direccion la obtenemos usando la funcion <b>page2pa</b>."
   ]
  },
  {
   "cell_type": "markdown",
   "metadata": {},
   "source": [
    "```c\n",
    "int\n",
    "page_insert(pde_t *pgdir, struct PageInfo *pp, void *va, int perm)\n",
    "{\n",
    "\t// tengo que insertar una pagina\n",
    "\tpte_t* pte = pgdir_walk(pgdir, va, 1);\n",
    "\n",
    "\t// si la 'pte' es NULL quiere decir que no se ha\n",
    "\t// podido recuperar la tabla de paginas ni tampoco crearla\n",
    "\tif(pte == NULL) return -E_NO_MEM;\n",
    "\n",
    "\t// incremento en 1 la referencia\n",
    "\tpp->pp_ref++;\n",
    "\n",
    "\t// si ya se encuentra, remover\n",
    "\tif (*pte & PTE_P) page_remove(pgdir,va);\n",
    "\n",
    "\t// inserto la direccion fisica de la pagina\n",
    "\t*pte = (page2pa(pp) | (perm|PTE_P));\n",
    "\n",
    "\t//la entrada de pgdir tiene que tener los mismos permisos.\n",
    "\tpgdir[PDX(va)] = pgdir[PDX(va)] | perm;\n",
    "\t\n",
    "\t// retorno success\n",
    "\treturn 0;\n",
    "}\n",
    "```"
   ]
  },
  {
   "cell_type": "markdown",
   "metadata": {},
   "source": [
    "### Caminar de la Direccion Virtual hasta la Entrada de la tabla de paginas"
   ]
  },
  {
   "cell_type": "markdown",
   "metadata": {},
   "source": [
    "Algo que es realmente util es tener una funcion que dada una <b>direccion virtual</b> nos entregue la <b>entrada a la tabla de paginas</b>."
   ]
  },
  {
   "cell_type": "markdown",
   "metadata": {},
   "source": [
    "```c\n",
    "pte_t *\n",
    "pgdir_walk(pde_t *pgdir, const void *va, int create)\n",
    "{\n",
    "\t// obtengo el indice del directorio de paginas \n",
    "\t// que se corresponde con la 'va'\n",
    "\tint pdx = PDX(va);\n",
    "\t// obtengo el indice de la tabla de paginas\n",
    "\t// que se corresponde con la 'va'\n",
    "\tint ptx = PTX(va);\n",
    "\t// obtengo la entrada del directorio de paginas\n",
    "\t// que se corresponde con la 'va'\n",
    "\tpde_t pde = pgdir[pdx];\n",
    "\n",
    "\t// existe la tabla de paginas?\n",
    "\tif(pde){\n",
    "\t\t// existe la tabla de paginas\n",
    "\t\t\n",
    "\t\t// obtengo la direccion fisica de la tabla de paginas\n",
    "\t\tphysaddr_t pa_page_table = PTE_ADDR(pde); \n",
    "\t\t// obtengo la direccion virtual de la tabla de paginas\n",
    "\t\tvoid* va_page_table = KADDR(pa_page_table);\n",
    "\t\t// finalmente tengo la direccion virtual de entrada de\n",
    "\t\t// la tabla de paginas\n",
    "\t\tpte_t* va_pte = (pte_t*)va_page_table + ptx;\n",
    "\t\treturn va_pte;\n",
    "\t} else {\n",
    "\t\t// si no existe la tabla de paginas\n",
    "\t\tif(!create) {\n",
    "\t\t\t// el flag 'create' indico que no la tenemos que crear\n",
    "\t\t\treturn NULL;\n",
    "\t\t} else {\n",
    "\t\t\t// el flag 'create' indico que la tenemos que crear\n",
    "\t\t\tstruct PageInfo *page = page_alloc(ALLOC_ZERO);\n",
    "\t\t\tif(page == NULL) return NULL;\n",
    "\t\t\tpage->pp_ref++;\n",
    "\t\t\t// obtenemos la direccion fisica de la pagina\n",
    "\t\t\tphysaddr_t pa_page = page2pa(page);\n",
    "\t\t\t// finalmente colocamos esta pagina en el directorio\n",
    "\t\t\t// de paginas, para que sea utilizada como tabla de \n",
    "\t\t\t// paginas\n",
    "\t\t\tpgdir[pdx] = (pa_page | PTE_P | PTE_W);\n",
    "\t\t\treturn (pte_t*)(KADDR(pa_page)) + ptx;\n",
    "\t\t}\n",
    "\t}\n",
    "}\n",
    "```"
   ]
  },
  {
   "cell_type": "markdown",
   "metadata": {},
   "source": [
    "### Retonar la pagina dada una direccion virtual"
   ]
  },
  {
   "cell_type": "markdown",
   "metadata": {},
   "source": [
    "La siguiente funcion dada una <b>direccion virtual</b> busca la pagina a donde esta mapeada esta direccion, devolviendo su <b>struct PageInfo*</b> y ademas setea en <b>pte_store</b> la <b>pte</b> a la que mapea dicha direccion."
   ]
  },
  {
   "cell_type": "markdown",
   "metadata": {},
   "source": [
    "```c\n",
    "struct PageInfo *\n",
    "page_lookup(pde_t *pgdir, void *va, pte_t **pte_store)\n",
    "{\n",
    "\t// obtengo la 'pte' que contendra la direccion\n",
    "\t// fisica de la virtual indicada\n",
    "\tpte_t* pte = pgdir_walk(pgdir, va, 0);\n",
    "\t// si no obtuve ninguna 'pte' entonces no hay mas\n",
    "\t// nada que hacer\n",
    "\tif(pte == NULL) return NULL;\n",
    "\n",
    "\tif (pte_store) *pte_store = pte;\n",
    "\n",
    "\t// obtengo la direccion fisica almacenada en la\n",
    "\t// entrada de la tabla de paginas\n",
    "\tphysaddr_t pa_pte = PTE_ADDR(*pte);\n",
    "\t// obtengo la pagina que se encuentra en la\n",
    "\t// direccion fisica indicada\n",
    "\tstruct PageInfo* page_info = pa2page(pa_pte);\n",
    "\t// retorno la pagina\n",
    "\treturn page_info;\n",
    "}\n",
    "```"
   ]
  },
  {
   "cell_type": "markdown",
   "metadata": {},
   "source": [
    "### Remover una pagina"
   ]
  },
  {
   "cell_type": "markdown",
   "metadata": {},
   "source": [
    "Para remover una <b>pagina</b> de la <b>tabla de paginas</b> en la que se encuentra hacemos uso de la funcion <b>page_remove</b> que lo que hace es, dada una <b>direccion virtual</b> llega hasta la entrada de la tabla de paginas y borra la <b>direccion fisica</b> de la pagina y ademas trata de eliminar la pagina si es que no cuenta con referencias hacia ella. Por ultimo borra si hay una traduccion de esta direccion virtual en el TLB."
   ]
  },
  {
   "cell_type": "markdown",
   "metadata": {},
   "source": [
    "```c\n",
    "void\n",
    "page_remove(pde_t *pgdir, void *va)\n",
    "{\n",
    "\tpte_t* pte;\n",
    "\t// obtengo la 'pagina' y la 'pte' que se corresponde\n",
    "\t// con la 'va' indicada\n",
    "\tstruct PageInfo* page = page_lookup(pgdir, va, &pte);\n",
    "\t\n",
    "\t// si encontre la pagina\n",
    "\tif (page != NULL) {\n",
    "\t\t// decremento el contador de referencias a ella\n",
    "\t\t// y si el contador llega a cero la libera\n",
    "\t\tpage_decref(page);\n",
    "\n",
    "\t\ttlb_invalidate(pgdir, va);\n",
    "\n",
    "\t\tif (pte != NULL) *pte = 0;\n",
    "\t}\n",
    "\n",
    "}\n",
    "```"
   ]
  }
 ],
 "metadata": {
  "kernelspec": {
   "display_name": "Python 3",
   "language": "python",
   "name": "python3"
  },
  "language_info": {
   "codemirror_mode": {
    "name": "ipython",
    "version": 3
   },
   "file_extension": ".py",
   "mimetype": "text/x-python",
   "name": "python",
   "nbconvert_exporter": "python",
   "pygments_lexer": "ipython3",
   "version": "3.6.4"
  }
 },
 "nbformat": 4,
 "nbformat_minor": 2
}
