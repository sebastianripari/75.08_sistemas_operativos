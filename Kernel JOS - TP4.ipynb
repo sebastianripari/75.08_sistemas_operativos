{
 "cells": [
  {
   "cell_type": "markdown",
   "metadata": {},
   "source": [
    "# Sistema de archivos e intérprete de comandos"
   ]
  },
  {
   "cell_type": "markdown",
   "metadata": {},
   "source": [
    "Vamos a ver como hace <b>JOS</b> para manejarse con el <b>file system</b>. Para esto el <b>kernel</b> levanta un proceso que es el que se encargara de <b>leer</b> y <b>escribir</b> en el disco. Este proceso se lanza en la funcion <b>i386_init</b>:"
   ]
  },
  {
   "cell_type": "markdown",
   "metadata": {},
   "source": [
    "```c\n",
    "void i386_init(void) {\n",
    "    // ...\n",
    "\n",
    "    // Start fs.\n",
    "    ENV_CREATE(fs_fs, ENV_TYPE_FS);\n",
    "\n",
    "    // ...\n",
    "}\n",
    "```"
   ]
  },
  {
   "cell_type": "markdown",
   "metadata": {},
   "source": [
    "Notemos que el tipo de este proceso es <b>ENV_TYPE_FS</b>. Es decir no es de tipo <b>ENV_TYPE_USER</b>. Esto es para que los demas procesos puedan encontrar facilmente este, preguntando el tipo. "
   ]
  },
  {
   "cell_type": "markdown",
   "metadata": {},
   "source": [
    "## Modelado de un archivo:"
   ]
  },
  {
   "cell_type": "markdown",
   "metadata": {},
   "source": [
    "Aunque en realidad es un <b>file node</b>, representa la metadata del file que realmente esta en memoria."
   ]
  },
  {
   "cell_type": "markdown",
   "metadata": {},
   "source": [
    "```c\n",
    "struct File {\n",
    "\tchar f_name[MAXNAMELEN];\t// filename\n",
    "\toff_t f_size;\t\t\t// file size in bytes\n",
    "\tuint32_t f_type;\t\t// file type\n",
    "\n",
    "\t// Block pointers.\n",
    "\t// A block is allocated iff its value is != 0.\n",
    "\tuint32_t f_direct[NDIRECT];\t// direct blocks\n",
    "\tuint32_t f_indirect;\t\t// indirect block\n",
    "\n",
    "\t// Pad out to 256 bytes; must do arithmetic in case we're compiling\n",
    "\t// fsformat on a 64-bit machine.\n",
    "\tuint8_t f_pad[256 - MAXNAMELEN - 8 - 4*NDIRECT - 4];\n",
    "} __attribute__((packed));\t// required only on some 64-bit machines\n",
    "```"
   ]
  },
  {
   "cell_type": "code",
   "execution_count": null,
   "metadata": {},
   "outputs": [],
   "source": []
  }
 ],
 "metadata": {
  "kernelspec": {
   "display_name": "Python 3",
   "language": "python",
   "name": "python3"
  },
  "language_info": {
   "codemirror_mode": {
    "name": "ipython",
    "version": 3
   },
   "file_extension": ".py",
   "mimetype": "text/x-python",
   "name": "python",
   "nbconvert_exporter": "python",
   "pygments_lexer": "ipython3",
   "version": "3.7.0"
  }
 },
 "nbformat": 4,
 "nbformat_minor": 2
}
