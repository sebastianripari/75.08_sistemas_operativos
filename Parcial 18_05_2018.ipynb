{
 "cells": [
  {
   "cell_type": "markdown",
   "metadata": {},
   "source": [
    "# 3) (scheduling) Responder:"
   ]
  },
  {
   "cell_type": "markdown",
   "metadata": {},
   "source": [
    "a) Explicar brevemente cuales son los estados basicos de un proceso en un sistema Unix. Indicar que transiciones son posibles y dar ejemplos."
   ]
  },
  {
   "cell_type": "markdown",
   "metadata": {},
   "source": [
    "b) Dar al menos 3 politicas distintas de scheduling, describir como funcionan y comparar ventajas y desventajas."
   ]
  },
  {
   "cell_type": "markdown",
   "metadata": {},
   "source": [
    "<hr>"
   ]
  },
  {
   "cell_type": "markdown",
   "metadata": {},
   "source": [
    "a)"
   ]
  },
  {
   "cell_type": "markdown",
   "metadata": {},
   "source": [
    "### Estados basicos de un proceso:"
   ]
  },
  {
   "cell_type": "markdown",
   "metadata": {},
   "source": [
    "<b>ENV_FREE</b>: El proceso no esta corriendo y esta totalmente liberado, esta estado indica que esta listo para ser utilizado, es decir, hay que inicializarlo."
   ]
  },
  {
   "cell_type": "markdown",
   "metadata": {},
   "source": [
    "<b>ENV_DYING</b>: El proceso indica que esta listo para que le aplique un <b>free</b>."
   ]
  },
  {
   "cell_type": "markdown",
   "metadata": {},
   "source": [
    "<b>ENV_RUNNABLE</b>: El proceso esta listo para correr."
   ]
  },
  {
   "cell_type": "markdown",
   "metadata": {},
   "source": [
    "<b>ENV_RUNNING</b>: El proceso esta corriendo."
   ]
  },
  {
   "cell_type": "markdown",
   "metadata": {},
   "source": [
    "<b>ENV_NOT_RUNNABLE</b>: El procoeso aun no esta listo para correr."
   ]
  },
  {
   "cell_type": "markdown",
   "metadata": {},
   "source": [
    "<img src=\"Imagenes/machine_state_process.png\">"
   ]
  },
  {
   "cell_type": "markdown",
   "metadata": {},
   "source": [
    "<hr>"
   ]
  },
  {
   "cell_type": "markdown",
   "metadata": {},
   "source": [
    "b)"
   ]
  },
  {
   "cell_type": "markdown",
   "metadata": {},
   "source": [
    "## Politicas de Scheduling"
   ]
  },
  {
   "cell_type": "markdown",
   "metadata": {},
   "source": [
    "### First In, First Out (FIFO)"
   ]
  },
  {
   "cell_type": "markdown",
   "metadata": {},
   "source": [
    "Esta es la politica mas simple que existe, es simplemente que el scheduler procese los programas por orden de llegada y uno a la ves. Osea que hasta que no termine por completo de ejecutar uno, no siga con el siguiente."
   ]
  },
  {
   "cell_type": "markdown",
   "metadata": {},
   "source": [
    "Veamos un <b>ejemplo</b>:"
   ]
  },
  {
   "cell_type": "markdown",
   "metadata": {},
   "source": [
    "Tenemos tres programas el A, el B y el C. Llega primero el A, luego el B, y por ultimo llega el C. Entonces como se ejecutan por orden de llegada pasa lo siguiente:"
   ]
  },
  {
   "cell_type": "markdown",
   "metadata": {},
   "source": [
    "<img src=\"Imagenes/scheduler_fifo.png\">"
   ]
  },
  {
   "cell_type": "markdown",
   "metadata": {},
   "source": [
    "El A tarda 10 segundos y el B tarda lo que tardo el A mas lo que tardo el B y por ultimo el C tarda lo que tardo el A mas lo que tardo el B mas lo que tardo el C. Entonces el A tardo 10 segundos, el B 20 segundos y el C tardo 30 segundos. Por lo tanto el tiempo promedio es (10 + 20 + 30) / 3 = 60 / 3 = 20 segundos. "
   ]
  },
  {
   "cell_type": "markdown",
   "metadata": {},
   "source": [
    "En este caso todos los programas tardaron lo mismo en ejecurse, el tema es cuando el que llega primero es el que mas tarda en ejecutarse, ahi surge un problema y es que el tiempo promedio aumenta mucho porque los siguientes programas tuvieron que esperar que el primero que es el mas tarda, termine. Este es el efecto <b>Convoy</b>."
   ]
  },
  {
   "cell_type": "markdown",
   "metadata": {},
   "source": [
    "<img src=\"Imagenes/sheduler_convoy_effect.png\">"
   ]
  },
  {
   "cell_type": "markdown",
   "metadata": {},
   "source": [
    "Tiempo promedio: (100 + 110 + 120) / 3 = 110"
   ]
  },
  {
   "cell_type": "markdown",
   "metadata": {},
   "source": [
    "### Shortest Job First (SJF)"
   ]
  },
  {
   "cell_type": "markdown",
   "metadata": {},
   "source": [
    "Esta politica se tiene la mejora de que ejecuta los programas en orden de lo que tardan, de menor a mayor. Esto evita el efecto Convoy."
   ]
  },
  {
   "cell_type": "markdown",
   "metadata": {},
   "source": [
    "<img src=\"Imagenes/scheduler_shortest_job_first.png\">"
   ]
  },
  {
   "cell_type": "markdown",
   "metadata": {},
   "source": [
    "Tiempo promedio: (10 + 20 + 120) / 3 = 50"
   ]
  },
  {
   "cell_type": "code",
   "execution_count": null,
   "metadata": {},
   "outputs": [],
   "source": []
  },
  {
   "cell_type": "markdown",
   "metadata": {},
   "source": [
    "# 4) (memoria virtual) "
   ]
  },
  {
   "cell_type": "markdown",
   "metadata": {},
   "source": [
    "En la arquitectura x86 las direcciones fisicas y las virtuales son de 32 bits, y el tamanio de una pagina es de 2^12 bytes (4 kiB). Por lo tanto, hay 2^20"
   ]
  },
  {
   "cell_type": "code",
   "execution_count": null,
   "metadata": {},
   "outputs": [],
   "source": []
  }
 ],
 "metadata": {
  "kernelspec": {
   "display_name": "Python 3",
   "language": "python",
   "name": "python3"
  },
  "language_info": {
   "codemirror_mode": {
    "name": "ipython",
    "version": 3
   },
   "file_extension": ".py",
   "mimetype": "text/x-python",
   "name": "python",
   "nbconvert_exporter": "python",
   "pygments_lexer": "ipython3",
   "version": "3.7.3"
  }
 },
 "nbformat": 4,
 "nbformat_minor": 2
}
