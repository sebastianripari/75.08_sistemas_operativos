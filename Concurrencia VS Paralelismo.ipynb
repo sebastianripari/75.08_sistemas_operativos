{
 "cells": [
  {
   "cell_type": "markdown",
   "metadata": {},
   "source": [
    "# Concurrencia VS Paralelismo"
   ]
  },
  {
   "cell_type": "markdown",
   "metadata": {},
   "source": [
    "Hay que tener cuidado con todos dos terminos, ya que <b>no son lo mismo</b>, no significan lo mismo. Para explicar lo que es la <b>concurrencia</b> vallamos con un <b>ejemplo</b> muy ilustrativo. Imaginemos el siguiente escenario:"
   ]
  },
  {
   "cell_type": "markdown",
   "metadata": {},
   "source": [
    "<img src=\"Imagenes/concurrencia_ejemplo_bar_cafe.jpg\">"
   ]
  },
  {
   "cell_type": "markdown",
   "metadata": {},
   "source": [
    "Un hombre en un bar haciendo diferentes cosas:\n",
    "- Tomando un cafe.\n",
    "- Leyendo un libro.\n",
    "- Revisando el celular."
   ]
  },
  {
   "cell_type": "markdown",
   "metadata": {},
   "source": [
    "Estas diferentes cosas son concurrentes, pero no son paralelas, el nombre o toma el cafe, o lee el libro o revisa el celular. No puede hacer dos al mismo tiempo."
   ]
  }
 ],
 "metadata": {
  "kernelspec": {
   "display_name": "Python 3",
   "language": "python",
   "name": "python3"
  },
  "language_info": {
   "codemirror_mode": {
    "name": "ipython",
    "version": 3
   },
   "file_extension": ".py",
   "mimetype": "text/x-python",
   "name": "python",
   "nbconvert_exporter": "python",
   "pygments_lexer": "ipython3",
   "version": "3.7.3"
  }
 },
 "nbformat": 4,
 "nbformat_minor": 2
}
