{
 "cells": [
  {
   "cell_type": "markdown",
   "metadata": {},
   "source": [
    "# Multitarea con desalojo"
   ]
  },
  {
   "cell_type": "markdown",
   "metadata": {},
   "source": [
    "En este TP se trabajara para que JOS pueda correr diferentes procesos al mismo tiempo usando diferentes CPUs. "
   ]
  },
  {
   "cell_type": "markdown",
   "metadata": {},
   "source": [
    "La constante <b>NCPU</b> limita el número máximo de CPUs que puede manejar JOS; actualmente es 8. Esta esta definida en <b>cpu.h</b>:"
   ]
  },
  {
   "cell_type": "markdown",
   "metadata": {},
   "source": [
    "```c\n",
    "// Maximum number of CPUs\n",
    "#define NCPU  8\n",
    "```"
   ]
  },
  {
   "cell_type": "markdown",
   "metadata": {},
   "source": [
    "Estos son los <b>estados</b> que pueden tomar cada CPU:"
   ]
  },
  {
   "cell_type": "markdown",
   "metadata": {},
   "source": [
    "```c\n",
    "// Values of status in struct Cpu\n",
    "enum {\n",
    "\tCPU_UNUSED = 0,\n",
    "\tCPU_STARTED,\n",
    "\tCPU_HALTED,\n",
    "};\n",
    "```"
   ]
  },
  {
   "cell_type": "markdown",
   "metadata": {},
   "source": [
    "Este es el <b>state</b> de un CPU. Aca esta la modelizacion del CPU:"
   ]
  },
  {
   "cell_type": "markdown",
   "metadata": {},
   "source": [
    "```c\n",
    "// Per-CPU state\n",
    "struct CpuInfo {\n",
    "\tuint8_t cpu_id;                 \n",
    "\tvolatile unsigned cpu_status;   \n",
    "\tstruct Env *cpu_env;            \n",
    "\tstruct Taskstate cpu_ts;        \n",
    "};\n",
    "```"
   ]
  },
  {
   "cell_type": "markdown",
   "metadata": {},
   "source": [
    "<b>Lista de CPUs</b>"
   ]
  },
  {
   "cell_type": "markdown",
   "metadata": {},
   "source": [
    "```c\n",
    "extern struct CpuInfo cpus[NCPU];\n",
    "```"
   ]
  },
  {
   "cell_type": "markdown",
   "metadata": {},
   "source": [
    "<img src=\"Imagenes/CPUs.png\">"
   ]
  }
 ],
 "metadata": {
  "kernelspec": {
   "display_name": "Python 3",
   "language": "python",
   "name": "python3"
  },
  "language_info": {
   "codemirror_mode": {
    "name": "ipython",
    "version": 3
   },
   "file_extension": ".py",
   "mimetype": "text/x-python",
   "name": "python",
   "nbconvert_exporter": "python",
   "pygments_lexer": "ipython3",
   "version": "3.7.0"
  }
 },
 "nbformat": 4,
 "nbformat_minor": 2
}
