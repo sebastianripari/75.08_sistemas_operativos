{
 "cells": [
  {
   "cell_type": "markdown",
   "metadata": {},
   "source": [
    "# Fork"
   ]
  },
  {
   "cell_type": "markdown",
   "metadata": {},
   "source": [
    "<b>Fork</b> es una funcion, que lo que hace es forkear el proceso a partir de que dicha funcion es llamada. A partir de la misma tenemos dos procesos el que llamo a fork y el nuevo que se creo a partir de esta llamada. Ambos siguen corriendo el mismo codigo subsiguiente, asi que es responsabilidad del programador programar la logica de la bifurcacion. Veamos un ejemplo:"
   ]
  },
  {
   "cell_type": "markdown",
   "metadata": {},
   "source": [
    "```c\n",
    "#include <stdio.h> \n",
    "#include <sys/types.h> \n",
    "#include <sys/wait.h>\n",
    "#include <unistd.h>\n",
    "\n",
    "void foo() {\n",
    "\tint x = 0;\n",
    "\tint pid = fork();\n",
    "\tx = 1;\n",
    "\tif (pid == 0) { //hijo\n",
    "\t\tx = 2;\n",
    "\t} else { // padre\n",
    "\t\tx = 3;\n",
    "\t}\n",
    "\tprintf(\"x = %d\\n\", x);\n",
    "}\n",
    "\n",
    "int main() {\n",
    "\tfoo();\n",
    "\tprintf(\"Finaliza un proceso\\n\");\n",
    "}\n",
    "```"
   ]
  }
 ],
 "metadata": {
  "kernelspec": {
   "display_name": "Python 3",
   "language": "python",
   "name": "python3"
  },
  "language_info": {
   "codemirror_mode": {
    "name": "ipython",
    "version": 3
   },
   "file_extension": ".py",
   "mimetype": "text/x-python",
   "name": "python",
   "nbconvert_exporter": "python",
   "pygments_lexer": "ipython3",
   "version": "3.7.3"
  }
 },
 "nbformat": 4,
 "nbformat_minor": 2
}
