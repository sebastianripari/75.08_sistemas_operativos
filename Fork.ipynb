{
 "cells": [
  {
   "cell_type": "markdown",
   "metadata": {},
   "source": [
    "# Fork"
   ]
  },
  {
   "cell_type": "markdown",
   "metadata": {},
   "source": [
    "<b>Fork</b> es una funcion, que lo que hace es forkear el proceso a partir de que dicha funcion es llamada. A partir de la misma tenemos dos procesos el que llamo a fork y el nuevo que se creo a partir de esta llamada. Ambos siguen corriendo el mismo codigo subsiguiente, asi que es responsabilidad del programador programar la logica de la bifurcacion. Veamos unos <b>ejemplos</b>:"
   ]
  },
  {
   "cell_type": "markdown",
   "metadata": {},
   "source": [
    "### Ejemplo 1"
   ]
  },
  {
   "cell_type": "markdown",
   "metadata": {},
   "source": [
    "```c\n",
    "#include <stdio.h> \n",
    "#include <sys/types.h> \n",
    "#include <sys/wait.h>\n",
    "#include <unistd.h>\n",
    "\n",
    "void foo() {\n",
    "\tint x = 0;\n",
    "\tint pid = fork();\n",
    "    // a partir de aqui comienza la ramificacion de la ejecucion\n",
    "    // el proceso child (creado) tiene pid 0\n",
    "\tx = 1;\n",
    "\tif (pid == 0) { //hijo\n",
    "\t\tx = 2;\n",
    "\t} else { // padre\n",
    "        // espera que el hijo termine de ejecutarse\n",
    "        waitpid(pid, 0, 0);\n",
    "\t\tx = 3;\n",
    "\t}\n",
    "\tprintf(\"x = %d\\n\", x);\n",
    "}\n",
    "\n",
    "int main() {\n",
    "\tfoo();\n",
    "\tprintf(\"Finaliza un proceso\\n\");\n",
    "}\n",
    "```"
   ]
  },
  {
   "cell_type": "markdown",
   "metadata": {},
   "source": [
    "Asi que el <b>output</b> de esto es:"
   ]
  },
  {
   "cell_type": "markdown",
   "metadata": {},
   "source": [
    "x = 2<br>\n",
    "Finaliza un proceso<br>\n",
    "x = 3<br>\n",
    "Finaliza un proceso<br>"
   ]
  },
  {
   "cell_type": "markdown",
   "metadata": {},
   "source": [
    "<hr>"
   ]
  },
  {
   "cell_type": "markdown",
   "metadata": {},
   "source": [
    "### Ejemplo 2"
   ]
  },
  {
   "cell_type": "markdown",
   "metadata": {},
   "source": [
    "```c\n",
    "#include <stdio.h> \n",
    "#include <sys/types.h> \n",
    "#include <sys/wait.h>\n",
    "#include <unistd.h>\n",
    "\n",
    "void foo() {\n",
    "    int pid = fork();\n",
    "   \n",
    "    if (pid == 0) {\n",
    "        // hijo\n",
    "        printf(\"pid = %d\\n\", pid);\n",
    "    } else {\n",
    "        // padre\n",
    "        waitpid(pid, 0, 0);\n",
    "        printf(\"pid = %d\\n\", pid);\n",
    "    }\n",
    "}\n",
    "\n",
    "int main() {\n",
    "    foo();\n",
    "    printf(\"Finaliza un proceso\\n\");\n",
    "}\n",
    "```"
   ]
  },
  {
   "cell_type": "markdown",
   "metadata": {},
   "source": [
    "<b>Output</b>:"
   ]
  },
  {
   "cell_type": "markdown",
   "metadata": {},
   "source": [
    "pid = 0<br>\n",
    "Finaliza un proceso<br>\n",
    "pid = pid del padre<br>\n",
    "Finaliza un proceso"
   ]
  },
  {
   "cell_type": "markdown",
   "metadata": {},
   "source": [
    "<hr>"
   ]
  },
  {
   "cell_type": "markdown",
   "metadata": {},
   "source": [
    "### Ejemplo 3 "
   ]
  },
  {
   "cell_type": "markdown",
   "metadata": {},
   "source": [
    "```c\n",
    "#include <stdio.h> \n",
    "#include <sys/types.h> \n",
    "#include <unistd.h> \n",
    "\n",
    "int main() \n",
    "{ \n",
    "    fork(); \n",
    "    fork();\n",
    "  \n",
    "    printf(\"Hello world!\\n\"); \n",
    "    return 0; \n",
    "} \n",
    "```"
   ]
  },
  {
   "cell_type": "markdown",
   "metadata": {},
   "source": [
    "<b>Output</b>:"
   ]
  },
  {
   "cell_type": "markdown",
   "metadata": {},
   "source": [
    "Hello world!<br>\n",
    "Hello world!<br>\n",
    "Hello world!<br>\n",
    "Hello world!<br>"
   ]
  },
  {
   "cell_type": "markdown",
   "metadata": {},
   "source": [
    "<hr>"
   ]
  },
  {
   "cell_type": "markdown",
   "metadata": {},
   "source": [
    "Lo que pasa en este ultimo ejemplo es lo siguiente:"
   ]
  },
  {
   "cell_type": "markdown",
   "metadata": {},
   "source": [
    "<img src=\"Imagenes/fork.png\">"
   ]
  },
  {
   "cell_type": "markdown",
   "metadata": {},
   "source": [
    "Tenemos un programa que se forkea en dos programas y luego estos dos programas se forkean en otros dos programas, quedando cuatro programas. "
   ]
  },
  {
   "cell_type": "markdown",
   "metadata": {},
   "source": [
    "Lo que sucede es que siendo <b>n</b> la cantidad de llamadas a forks, la cantidad de programas es <b>2^n</b>."
   ]
  }
 ],
 "metadata": {
  "kernelspec": {
   "display_name": "Python 3",
   "language": "python",
   "name": "python3"
  },
  "language_info": {
   "codemirror_mode": {
    "name": "ipython",
    "version": 3
   },
   "file_extension": ".py",
   "mimetype": "text/x-python",
   "name": "python",
   "nbconvert_exporter": "python",
   "pygments_lexer": "ipython3",
   "version": "3.7.3"
  }
 },
 "nbformat": 4,
 "nbformat_minor": 2
}
