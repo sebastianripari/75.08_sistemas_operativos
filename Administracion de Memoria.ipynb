{
 "cells": [
  {
   "cell_type": "markdown",
   "metadata": {},
   "source": [
    "# Administracion de memoria"
   ]
  },
  {
   "cell_type": "markdown",
   "metadata": {},
   "source": [
    "## Los primeros sistemas "
   ]
  },
  {
   "cell_type": "markdown",
   "metadata": {},
   "source": [
    "El sistema operativo tan solo pesaba 64KB y el resto estaba disponible para un unico programa. "
   ]
  },
  {
   "cell_type": "markdown",
   "metadata": {},
   "source": [
    "<img src=\"Imagenes/ad_mem_early_days.png\">"
   ]
  },
  {
   "cell_type": "markdown",
   "metadata": {},
   "source": [
    "## Multiprogramacion y time sharing"
   ]
  },
  {
   "cell_type": "markdown",
   "metadata": {},
   "source": [
    "Aqui la computacion avanza y las computadoras comienzan a tener mas de proceso, los cuales se guardaban de la suguiente manera:"
   ]
  },
  {
   "cell_type": "markdown",
   "metadata": {},
   "source": [
    "<img src=\"Imagenes/admin_mem_multiprogramacion.png\">"
   ]
  },
  {
   "cell_type": "markdown",
   "metadata": {},
   "source": [
    "Notar que la memoria de un proceso se guarda toda junta, el codigo, los datos, etc."
   ]
  },
  {
   "cell_type": "markdown",
   "metadata": {},
   "source": [
    "## El espacio de direcciones o address space"
   ]
  },
  {
   "cell_type": "markdown",
   "metadata": {},
   "source": [
    "El <b>Address Space</b> de un <b>proceso</b> contiene todo el estado de la memoria de un <b>programa en ejecucion</b>."
   ]
  },
  {
   "cell_type": "markdown",
   "metadata": {},
   "source": [
    "<img src=\"Imagenes/admin_mem_address_space.png\">"
   ]
  },
  {
   "cell_type": "markdown",
   "metadata": {},
   "source": [
    "Secciones:\n",
    "- <b>Program code</b>: Es el codigo del programa. Arranca en la direccion 0.\n",
    "- <b>Heap</b>: Heap de proceso. Arranca desp del program code, y crece hacia abajo.\n",
    "- <b>Stack</b>: Stack del proceso. Arranca en la ultima direccion del proceso y crece hacia arriba."
   ]
  },
  {
   "cell_type": "markdown",
   "metadata": {},
   "source": [
    "Esta es la gran abstraccion que hace el <b>sistema operativo</b> con cada programa. Ya que por supuesto ningun programa arranca en la direccion cero. Esta <b>abstraccion</b> es la conocida <b>virtualizacion de memoria</b>. Ya que el programa piensa que esta cargado en la direcion 0 pero en realidad no es asi."
   ]
  },
  {
   "cell_type": "markdown",
   "metadata": {},
   "source": [
    "Asi que cuando el programa carga algo en la direccion 0, el sistema operativo mediante un mecanismo de hardware mapeara a alguna direccion."
   ]
  },
  {
   "cell_type": "markdown",
   "metadata": {},
   "source": [
    "Esta <b>virtualizacion</b> es <b>invisible</b> al programa."
   ]
  },
  {
   "cell_type": "markdown",
   "metadata": {},
   "source": [
    "El mecanismo de virtualizacion debe cumplir estas tres caracteristicas:\n",
    "- Debe ser <b>invisible</b> al programa.\n",
    "- Debe ser <b>rapido</b>.\n",
    "- Debe dar <b>proteccion</b>. Los <b>address space</b> son privados, cada proceso solo puede ver su address space. Este es el famoso <b>aislamiento</b>."
   ]
  },
  {
   "cell_type": "markdown",
   "metadata": {},
   "source": [
    "## Tipos de memoria"
   ]
  },
  {
   "cell_type": "markdown",
   "metadata": {},
   "source": [
    "En un programa en ejecucion, existen dos tipos de memoria:\n",
    "- <b>Stack</b>: Su reserve y liberacion es manejada implicitamente por el compilador, por eso a veces se la denomina <b>memoria automatica</b>.\n",
    "- <b>Heap</b>: Este tipo de memoria es aquella que es obtenida y liberada explicitamente por el programador. Con es uso por ejemplo de <b>malloc</b> en C."
   ]
  },
  {
   "cell_type": "markdown",
   "metadata": {},
   "source": [
    "### Funciones para manejar memoria dinamica (heap): malloc & free"
   ]
  },
  {
   "cell_type": "markdown",
   "metadata": {},
   "source": [
    "```c\n",
    "int* numero = (int*) malloc(sizeof(int))\n",
    "free(numero)\n",
    "```"
   ]
  },
  {
   "cell_type": "markdown",
   "metadata": {},
   "source": [
    "### Implementaciones"
   ]
  },
  {
   "cell_type": "markdown",
   "metadata": {},
   "source": [
    "Veamos que <b>syscalls</b> son las que hacen posible la existencia de <b>malloc</b>. Bueno estas son:\n",
    "- <b>brk()</b>: Lo que hace es cambiar el lugar donde le programa se rompe (hace break), es decir el lugar donde temrmina el <b>heap</b>. Solo recibe un parametro que es el lugar de la nueva direccion de fin del heap.\n",
    "- <b>sbreak()</b>: Hace lo mismo que el break pero el parametro es la cantidad de bytes."
   ]
  },
  {
   "cell_type": "markdown",
   "metadata": {},
   "source": [
    "## Address Translation"
   ]
  },
  {
   "cell_type": "markdown",
   "metadata": {},
   "source": [
    "Ahora vamos a entrar un poco mas en detalle de como se hace la traduccion de memoria. Esta es la tecnica que transforma una <b>direccion virtual</b> en una <b>direccion fisica</b>."
   ]
  },
  {
   "cell_type": "markdown",
   "metadata": {},
   "source": [
    "Todas las traducciones de memoria virtual a memoria fisica se hacen por hardware, esto es para que sean rapidas. La parte que se hace en hardware es digamos la mas basica, la operacion de traduccion pura, pero hay otras cosas que el que las hace es el sistema operativo."
   ]
  },
  {
   "cell_type": "markdown",
   "metadata": {},
   "source": [
    "A continuacion veremos las diferentes implementaciones que logran la virtualizacion de memoria."
   ]
  },
  {
   "cell_type": "markdown",
   "metadata": {},
   "source": [
    "### Dynamic Realocation o Memoria Segmentada"
   ]
  },
  {
   "cell_type": "markdown",
   "metadata": {},
   "source": [
    "Esta es la primera implementacion, introducida hacia fin de los anios 50, es una idea simple llamada <b>base y segmento</b> tambien se le llama <b>dynamic realocation</b>."
   ]
  },
  {
   "cell_type": "markdown",
   "metadata": {},
   "source": [
    "En este implementacion mediante dos registros <b>base</b> y <b>segmento (tambien llamado registro limite)</b> se delimita la seccion de memoria fisica que perfenece al proceso. Estas dos variables son almacenadas en registros. Asi que el procesador para traducir de direccion <b>virtual</b> a <b>fisica</b> tiene que hacer lo siguiente:"
   ]
  },
  {
   "cell_type": "markdown",
   "metadata": {},
   "source": [
    "\\begin{equation}\n",
    "Direccion Fisica = Base + Direccion Virtual\n",
    "\\end{equation}"
   ]
  },
  {
   "cell_type": "markdown",
   "metadata": {},
   "source": [
    "Y ademas debe controlar que este proceso solo pueda acceder al address space de este proceso, esto lo hace fijandose en los registros <b>base y segmento</b>."
   ]
  },
  {
   "cell_type": "markdown",
   "metadata": {},
   "source": [
    "Hay dos variantes del registro <b>segmento</b> tambien llamado registro <b>bound</b>. Puede almacenar el tamanio de la seccion o bien puede almacenar la direccion del final de la seccion, cualquiera de estas dos variantes nos sirve para conocer el address space del programa."
   ]
  },
  {
   "cell_type": "markdown",
   "metadata": {},
   "source": [
    "### Address Translation con Tabla de Segmentos"
   ]
  },
  {
   "cell_type": "markdown",
   "metadata": {},
   "source": [
    "Esta implementacion es parecida a la anterior pero tiene la diferencia de que en memoria fisica la porcion de memoria que mapea al address space del proceso no esta toda junta. Cada seccion mepea a un cacho diferente de memoria fisica. Entonces con dos registros ya no nos alcanza, ya que eso delimitaria un solo cacho de memoria, y nosotros necesitamos un cacho por cada seccion de memoria. Asi que necesitamos un par de registros por cada seccion, como son 4 secciones, stack, code, data, heap, necesitamos 2 x 4 registros."
   ]
  },
  {
   "cell_type": "markdown",
   "metadata": {},
   "source": [
    "<img src=\"Imagenes/address_translation_with_segment_table.jpg\">"
   ]
  },
  {
   "cell_type": "markdown",
   "metadata": {},
   "source": []
  }
 ],
 "metadata": {
  "kernelspec": {
   "display_name": "Python 3",
   "language": "python",
   "name": "python3"
  },
  "language_info": {
   "codemirror_mode": {
    "name": "ipython",
    "version": 3
   },
   "file_extension": ".py",
   "mimetype": "text/x-python",
   "name": "python",
   "nbconvert_exporter": "python",
   "pygments_lexer": "ipython3",
   "version": "3.7.3"
  }
 },
 "nbformat": 4,
 "nbformat_minor": 2
}
