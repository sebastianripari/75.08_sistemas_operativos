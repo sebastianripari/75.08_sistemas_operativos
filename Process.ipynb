{
 "cells": [
  {
   "cell_type": "markdown",
   "metadata": {},
   "source": [
    "# Process"
   ]
  },
  {
   "cell_type": "markdown",
   "metadata": {},
   "source": [
    "## Definicion"
   ]
  },
  {
   "cell_type": "markdown",
   "metadata": {},
   "source": [
    "La definicion de <b>proceso</b> varia segun el autor, pero todas obviamente apuntan a lo mismo:"
   ]
  },
  {
   "cell_type": "markdown",
   "metadata": {},
   "source": [
    "- Un proceso es la ejecución de un programa de aplicación con derechos restringidos; el proceso es la abstracción que provee el Kernel del sistema operativo para la ejecución protegida”- <b>Dahlin</b>.\n",
    "- \"Es simplemente un programa que se está ejecutando en un instante dado” - <b>Arpaci</b>\n",
    "- “Un Proceso es la instancia de un programa en ejecución” - <b>Vahalia</b>\n",
    "- “Un proceso es un programa en medio de su ejecución” - <b>Robert Love</b>"
   ]
  },
  {
   "cell_type": "markdown",
   "metadata": {},
   "source": [
    "## Virtualizacion"
   ]
  },
  {
   "cell_type": "markdown",
   "metadata": {},
   "source": [
    "El concepto de <b>virtualizacion</b> esta ligado a:"
   ]
  },
  {
   "cell_type": "markdown",
   "metadata": {},
   "source": [
    "Crear una <b>abstraccion</b> que haga que el <b>hardware</b> sea mucho mas facil de utilizar."
   ]
  },
  {
   "cell_type": "markdown",
   "metadata": {},
   "source": [
    "<hr>"
   ]
  },
  {
   "cell_type": "markdown",
   "metadata": {},
   "source": [
    "Una cosa a tener en cuenta es que el <b>kernel</b> tambien es un <b>proceso</b>."
   ]
  },
  {
   "cell_type": "markdown",
   "metadata": {},
   "source": [
    "## API"
   ]
  },
  {
   "cell_type": "markdown",
   "metadata": {},
   "source": [
    "Que debe incluir cualquier interfaz de un SO:\n",
    "- <b>Creación (Create)</b>: todo sistema operativo debe incluir una forma de crear un nuevo proceso.\n",
    "- <b>Destrucción (Destroy)</b> : así como existe una interface para crear un proceso debe existir una interface para destruirlo por la fuerza.\n",
    "- <b>Espera (wait)</b>: A veces es útil esperar a que un proceso termine su ejecución por ende algún tipo de interface de espera debe ser provista.\n",
    "- <b>Control Vario (Miscellaneous Control)</b>: Además de esperar o matar a un proceso otros tipos de operaciones deben poder realizarse. Por ejemplo, suspender su ejecución por un tiempo y luego reanudarla.\n",
    "- <b>Estado (Status)</b>: Tiene que existir una forma de saber sobre la situación del proceso y su estado. Cuánto hace que se está ejecutando, en que estado se encuentra, etc. "
   ]
  }
 ],
 "metadata": {
  "kernelspec": {
   "display_name": "Python 3",
   "language": "python",
   "name": "python3"
  },
  "language_info": {
   "codemirror_mode": {
    "name": "ipython",
    "version": 3
   },
   "file_extension": ".py",
   "mimetype": "text/x-python",
   "name": "python",
   "nbconvert_exporter": "python",
   "pygments_lexer": "ipython3",
   "version": "3.7.0"
  }
 },
 "nbformat": 4,
 "nbformat_minor": 2
}
