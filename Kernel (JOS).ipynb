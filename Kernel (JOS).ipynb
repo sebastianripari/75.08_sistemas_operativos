{
 "cells": [
  {
   "cell_type": "markdown",
   "metadata": {},
   "source": [
    "# Physical Pages Management"
   ]
  },
  {
   "cell_type": "markdown",
   "metadata": {},
   "source": [
    "### Lista de paginas"
   ]
  },
  {
   "cell_type": "markdown",
   "metadata": {},
   "source": [
    "```c\n",
    "struct PageInfo *pages;\n",
    "```"
   ]
  },
  {
   "cell_type": "markdown",
   "metadata": {},
   "source": [
    "### PageInfo"
   ]
  },
  {
   "cell_type": "markdown",
   "metadata": {},
   "source": [
    "Esta estructura es la que modeliza una pagina. Es el siguiente <b>struct</b>:"
   ]
  },
  {
   "cell_type": "markdown",
   "metadata": {},
   "source": [
    "Contiene dos atributos:\n",
    "- <b>pp_link</b>: Es el link hacia la siguiente pagina libre.\n",
    "- <b>pp_ref</b>: Es la cantidad de referencias hacia esta pagina."
   ]
  },
  {
   "cell_type": "markdown",
   "metadata": {},
   "source": [
    "```c\n",
    "struct PageInfo {\n",
    "\t// Next page on the free list.\n",
    "\tstruct PageInfo *pp_link;\n",
    "\n",
    "\t// pp_ref is the count of pointers (usually in page table entries)\n",
    "\t// to this page, for pages allocated using page_alloc.\n",
    "\t// Pages allocated at boot time using pmap.c's\n",
    "\t// boot_alloc do not have valid reference count fields.\n",
    "\n",
    "\tuint16_t pp_ref;\n",
    "};\n",
    "\n",
    "```"
   ]
  },
  {
   "cell_type": "markdown",
   "metadata": {},
   "source": [
    "### Lista de paginas libres"
   ]
  },
  {
   "cell_type": "markdown",
   "metadata": {},
   "source": [
    "Observando el siguiente esquema vemos que usando el atributo <b>pp_link</b> cada elemento del array <b>pages</b>, osea cada pagina apunta a la siguiente libre. Ademas se muestra como la variable <b>page_free_list</b> apunta a la primera pagina libre."
   ]
  },
  {
   "cell_type": "markdown",
   "metadata": {},
   "source": [
    "<img src=\"Imagenes/pages.jpg\">"
   ]
  },
  {
   "cell_type": "markdown",
   "metadata": {},
   "source": [
    "### Obtener una pagina libre"
   ]
  },
  {
   "cell_type": "markdown",
   "metadata": {},
   "source": [
    "Esto se logra haciendo uso de la funcion <b>page_alloc</b>. Esta funcion obtiene una pagina libre de la lista de paginas para que la pueda utilizar un programa."
   ]
  },
  {
   "cell_type": "markdown",
   "metadata": {},
   "source": [
    "```c\n",
    "struct PageInfo *\n",
    "page_alloc(int alloc_flags)\n",
    "{\t\n",
    "\t// freepage := la primera pagina en la lista de paginas libres\n",
    "\tstruct PageInfo* freepage = page_free_list;\n",
    "\n",
    "\t// No hay una pagina fisica libre, por lo tanto retornamos NULL\n",
    "\tif (freepage == NULL) return NULL;\n",
    "\n",
    "\t// actualizamos la lista sacando la pagina que vamos a retornar\n",
    "\tpage_free_list = page_free_list->pp_link;\n",
    "\n",
    "\t// si 'alloc_flags' indica ALLOC_ZERO, entonces tenemos que\n",
    "\t// rellenar con ceros\n",
    "\tif (alloc_flags & ALLOC_ZERO){\n",
    "\t\t// agarramos la direccion virtual de la pagina\n",
    "\t\tvoid* va = page2kva(freepage);\n",
    "\t\t// para luego inicialziarla completamente con ceros\n",
    "\t\tmemset(va, 0, PGSIZE);\n",
    "\t} \n",
    "\t\n",
    "\t// incializar el contador de las referencias de esta pagina\n",
    "\tfreepage->pp_ref = 0;\n",
    "\t\n",
    "\t// limpiamos el valor de pp_link, ya que no lo necesita mas \n",
    "\t// debido a que ya no pertenece a la lista\n",
    "\tfreepage->pp_link = NULL;\n",
    "\n",
    "\t// retornamos finalmente la info de la pagina alocada\n",
    "\treturn freepage;\n",
    "}\n",
    "```"
   ]
  },
  {
   "cell_type": "markdown",
   "metadata": {},
   "source": [
    "### Inicializar la lista de paginas"
   ]
  },
  {
   "cell_type": "markdown",
   "metadata": {},
   "source": [
    "Esta inicializacion es simplemente indicarle pagina cual es su siguiente libre. Y inicializar la cantidad de referencias a cada una de ellas en 0."
   ]
  },
  {
   "cell_type": "markdown",
   "metadata": {},
   "source": [
    "```c\n",
    "void\n",
    "page_init(void)\n",
    "{\n",
    "\tint top_boot_alloc = (int)PADDR(boot_alloc(0));\n",
    "\tfor (size_t i = 0 ; i < npages; i++) {\n",
    "\t/************ Ilustracion de la memoria fisica, para identificar los sectores libres *******************\n",
    "\t  | 0 -------- npages_basemem -------- IOPHYSMEM --------- EXTPHYSMEM -------- top_boot_alloc -------- |\n",
    "\t*******************************************************************************************************/\n",
    "\t\t// validamos de no colocar una pagina que no esta libre a la lista de paginas libres\n",
    "\t\tif (\n",
    "\t\t\t((i > 0 && i<npages_basemem) ||\n",
    "\t\t\t(i >= top_boot_alloc/PGSIZE))\n",
    "\t\t) {\n",
    "\t\t\t// inicializamos el contador de referencias de la pagina en cero.\n",
    "\t\t\tpages[i].pp_ref = 0;\n",
    "\t\t\t// introducimos esta pagina a el principio de la lista de paginas.\n",
    "\t\t\tpages[i].pp_link = page_free_list;\n",
    "\t\t\tpage_free_list = &pages[i];\n",
    "\t\t}\n",
    "\t}\n",
    "}\n",
    "```"
   ]
  },
  {
   "cell_type": "markdown",
   "metadata": {},
   "source": [
    "### Liberar una pagina"
   ]
  },
  {
   "cell_type": "markdown",
   "metadata": {},
   "source": [
    "Esto se logra haciendo uso de la funcion <b>page_free</b>. Esta funcion agarra una pagina que no pertenece a la lista de paginas libre, y la vuelve a poner en ella. Para que posteriormente pueda ser utilizada por otro programa."
   ]
  },
  {
   "cell_type": "markdown",
   "metadata": {},
   "source": [
    "```c\n",
    "void\n",
    "page_free(struct PageInfo *pp)\n",
    "{\n",
    "\t// Si el contador de referencias de esta pagina es mayor a cero\n",
    "\t// no la podemos liberar ya que los que estan apuntando hacia ella\n",
    "\t// quedarian apuntando a algo invalido, por lo tanto evitamos esto\n",
    "\t// emitiendo un 'panic' con el mensaje correspondiente\n",
    "\tif ((pp->pp_ref != 0) || (pp->pp_link != NULL))\n",
    "\t\tpanic (\"Tried to free memory without pp_ref!=0 or pp_link!=NULL\");\n",
    "\n",
    "\t// introducimos la pagina a la lista de paginas libres, para que \n",
    "\t// pueda ser usada posteriormente.\n",
    "\tpp->pp_link = page_free_list;\n",
    "\tpage_free_list = pp;\n",
    "}\n",
    "```"
   ]
  },
  {
   "cell_type": "markdown",
   "metadata": {},
   "source": [
    "# Memoria Virtual"
   ]
  },
  {
   "cell_type": "markdown",
   "metadata": {},
   "source": [
    "Los programas y el mismo kernel utilizan direcciones virtuales, no fisicas. Estas direcciones virtuales son traducidas a direcciones fisicas como luego veremos. Este sistema de memoria hace que el programa crea que tiene infinita memoria."
   ]
  },
  {
   "cell_type": "markdown",
   "metadata": {},
   "source": [
    "Esquema de como funciona el sistema de traduccion."
   ]
  },
  {
   "cell_type": "markdown",
   "metadata": {},
   "source": [
    "<img src=\"Imagenes/x86-addr-translation.gif\">"
   ]
  },
  {
   "cell_type": "markdown",
   "metadata": {},
   "source": [
    "Integrantes de este modelo:\n",
    "- <b>Page Directory</b>: Este es una tabla que contiene las direcciones de todas las tablas de paginas.\n",
    "- <b>Page Table</b>: Esta es una tabla que contiene las direcciones fisicas (phisycal address) de las paginas (ppa).  \n"
   ]
  },
  {
   "cell_type": "markdown",
   "metadata": {},
   "source": [
    "### Virtual Address"
   ]
  },
  {
   "cell_type": "markdown",
   "metadata": {},
   "source": [
    "<img src=\"Imagenes/x86-addr-format.gif\">"
   ]
  },
  {
   "cell_type": "markdown",
   "metadata": {},
   "source": [
    "En la foto vemos la estructura que tiene una direccion virtual. \n",
    "- <b>PDE</b> (10 bits): Es el indice en el directorio de paginas.\n",
    "- <b>PTE</b> (10 bits): Es el indice en la tabla de paginas.\n",
    "- <b>Offset</b> (12 bits): Es el offset en la pagina."
   ]
  }
 ],
 "metadata": {
  "kernelspec": {
   "display_name": "Python 3",
   "language": "python",
   "name": "python3"
  },
  "language_info": {
   "codemirror_mode": {
    "name": "ipython",
    "version": 3
   },
   "file_extension": ".py",
   "mimetype": "text/x-python",
   "name": "python",
   "nbconvert_exporter": "python",
   "pygments_lexer": "ipython3",
   "version": "3.6.4"
  }
 },
 "nbformat": 4,
 "nbformat_minor": 2
}
