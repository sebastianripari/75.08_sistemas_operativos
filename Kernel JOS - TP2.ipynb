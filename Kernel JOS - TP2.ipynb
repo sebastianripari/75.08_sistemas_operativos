{
 "cells": [
  {
   "cell_type": "markdown",
   "metadata": {},
   "source": [
    "# Environments"
   ]
  },
  {
   "cell_type": "markdown",
   "metadata": {},
   "source": [
    "En JOS a los <b>procesos</b> se les llama <b>environments</b>. Asi que cuando hagamos referencia a un <b>environment</b> estaremos hablando de un <b>proceso</b> y viceversa."
   ]
  },
  {
   "cell_type": "markdown",
   "metadata": {},
   "source": [
    "### Estructura de un Environment "
   ]
  },
  {
   "cell_type": "markdown",
   "metadata": {},
   "source": [
    "La siguiente es la estructura de un proceso. Como podemos ver tiene diferentes cosas como el <b>env_id</b>, <b>env_parent_id</b> osea el <b>id</b> el proceso y el de su padre. Ademas tiene una estructura para guardarse los registros que utiliza, esto es <b>env_tf</b>. Luego tambien tiene una variable que guarda su estado, esta es <b>env_status</b>. Luego tenemos <b>env_runs</b> que guarda la cantidad de veces que este proceso fue corrido. Y por ultimo <b>env_pgdir</b> que es el directorio de paginas que usa este proceso."
   ]
  },
  {
   "cell_type": "markdown",
   "metadata": {},
   "source": [
    "```c\n",
    "struct Env {\n",
    "\tstruct Trapframe env_tf;\t// Saved registers\n",
    "\tstruct Env *env_link;\t\t// Next free Env\n",
    "\tenvid_t env_id;\t\t\t// Unique environment identifier\n",
    "\tenvid_t env_parent_id;\t\t// env_id of this env's parent\n",
    "\tenum EnvType env_type;\t\t// Indicates special system environments\n",
    "\tunsigned env_status;\t\t// Status of the environment\n",
    "\tuint32_t env_runs;\t\t// Number of times environment has run\n",
    "\n",
    "\t// Address space\n",
    "\tpde_t *env_pgdir;\t\t// Kernel virtual address of page dir\n",
    "};\n",
    "```"
   ]
  },
  {
   "cell_type": "markdown",
   "metadata": {},
   "source": [
    "#### Estados posibles para un Environment"
   ]
  },
  {
   "cell_type": "markdown",
   "metadata": {},
   "source": [
    "```c\n",
    "enum {\n",
    "\tENV_FREE = 0,\n",
    "\tENV_DYING,\n",
    "\tENV_RUNNABLE,\n",
    "\tENV_RUNNING,\n",
    "\tENV_NOT_RUNNABLE\n",
    "};\n",
    "```"
   ]
  }
 ],
 "metadata": {
  "kernelspec": {
   "display_name": "Python 3",
   "language": "python",
   "name": "python3"
  },
  "language_info": {
   "codemirror_mode": {
    "name": "ipython",
    "version": 3
   },
   "file_extension": ".py",
   "mimetype": "text/x-python",
   "name": "python",
   "nbconvert_exporter": "python",
   "pygments_lexer": "ipython3",
   "version": "3.6.4"
  }
 },
 "nbformat": 4,
 "nbformat_minor": 2
}
