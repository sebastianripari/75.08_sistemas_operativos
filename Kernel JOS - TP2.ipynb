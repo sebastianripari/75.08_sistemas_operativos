{
 "cells": [
  {
   "cell_type": "markdown",
   "metadata": {},
   "source": [
    "# Environments"
   ]
  },
  {
   "cell_type": "markdown",
   "metadata": {},
   "source": [
    "En JOS a los <b>procesos</b> se les llama <b>environments</b>. Asi que cuando hagamos referencia a un <b>environment</b> estaremos hablando de un <b>proceso</b> y viceversa."
   ]
  },
  {
   "cell_type": "markdown",
   "metadata": {},
   "source": [
    "## Estructura de un Environment "
   ]
  },
  {
   "cell_type": "markdown",
   "metadata": {},
   "source": [
    "La siguiente es la estructura de un proceso. Como podemos ver tiene diferentes cosas como el <b>env_id</b>, <b>env_parent_id</b> osea el <b>id</b> el proceso y el de su padre. Ademas tiene una estructura para guardarse los registros que utiliza, esto es <b>env_tf</b>. Luego tambien tiene una variable que guarda su estado, esta es <b>env_status</b>. Luego tenemos <b>env_runs</b> que guarda la cantidad de veces que este proceso fue corrido. Y por ultimo <b>env_pgdir</b> que es el directorio de paginas que usa este proceso."
   ]
  },
  {
   "cell_type": "markdown",
   "metadata": {},
   "source": [
    "```c\n",
    "struct Env {\n",
    "\tstruct Trapframe env_tf;\t// Saved registers\n",
    "\tstruct Env *env_link;\t\t// Next free Env\n",
    "\tenvid_t env_id;\t\t\t// Unique environment identifier\n",
    "\tenvid_t env_parent_id;\t\t// env_id of this env's parent\n",
    "\tenum EnvType env_type;\t\t// Indicates special system environments\n",
    "\tunsigned env_status;\t\t// Status of the environment\n",
    "\tuint32_t env_runs;\t\t// Number of times environment has run\n",
    "\n",
    "\t// Address space\n",
    "\tpde_t *env_pgdir;\t\t// Kernel virtual address of page dir\n",
    "};\n",
    "```"
   ]
  },
  {
   "cell_type": "markdown",
   "metadata": {},
   "source": [
    "#### Estados posibles para un Environment"
   ]
  },
  {
   "cell_type": "markdown",
   "metadata": {},
   "source": [
    "```c\n",
    "enum {\n",
    "\tENV_FREE = 0,\n",
    "\tENV_DYING,\n",
    "\tENV_RUNNABLE,\n",
    "\tENV_RUNNING,\n",
    "\tENV_NOT_RUNNABLE\n",
    "};\n",
    "```"
   ]
  },
  {
   "cell_type": "markdown",
   "metadata": {},
   "source": [
    "## Almacenamiento de los Environments"
   ]
  },
  {
   "cell_type": "markdown",
   "metadata": {},
   "source": [
    "La forma que JOS trabaja almacenando los procesos es creando un array estatico de 1024 posiciones de tamanio del struct del environment."
   ]
  },
  {
   "cell_type": "markdown",
   "metadata": {},
   "source": [
    "<img src=\"Imagenes/environments.jpg\">"
   ]
  },
  {
   "cell_type": "markdown",
   "metadata": {},
   "source": [
    "Este array JOS lo llama <b>envs</b>:"
   ]
  },
  {
   "cell_type": "markdown",
   "metadata": {},
   "source": [
    "```c\n",
    "struct Env *envs = NULL;\n",
    "```"
   ]
  },
  {
   "cell_type": "markdown",
   "metadata": {},
   "source": [
    "Al proximo libre lo llama <b>env_free_list</b>:"
   ]
  },
  {
   "cell_type": "markdown",
   "metadata": {},
   "source": [
    "```c\n",
    "static struct Env *env_free_list;\n",
    "```"
   ]
  },
  {
   "cell_type": "markdown",
   "metadata": {},
   "source": [
    "Al que esta actualmente corriendo lo llama <b>curenv</b>. Viene de <b>current environment</b>:"
   ]
  },
  {
   "cell_type": "markdown",
   "metadata": {},
   "source": [
    "```c\n",
    "struct Env *curenv = NULL;\n",
    "```"
   ]
  },
  {
   "cell_type": "markdown",
   "metadata": {},
   "source": [
    "## Creacion de los Environments"
   ]
  },
  {
   "cell_type": "markdown",
   "metadata": {},
   "source": [
    "Para crear este array hacemos los siguiente:"
   ]
  },
  {
   "cell_type": "markdown",
   "metadata": {},
   "source": [
    "```c\n",
    "void mem_init_envs() {\n",
    "\t// Creo el array que contendra todos los environments\n",
    "\tenvs = boot_alloc(NENV * sizeof(struct Env));\n",
    "\t// Inicializo el array\n",
    "\tmemset(envs, 0, NENV * sizeof(struct Env));\n",
    "}\n",
    "```"
   ]
  },
  {
   "cell_type": "markdown",
   "metadata": {},
   "source": [
    "<hr>"
   ]
  },
  {
   "cell_type": "markdown",
   "metadata": {},
   "source": [
    "# ELF Binary (Executable & Linkable Format)"
   ]
  },
  {
   "cell_type": "markdown",
   "metadata": {},
   "source": [
    "Los binarios elf son un tipo particular de binarios que cuentan con la siguiente estructura."
   ]
  },
  {
   "cell_type": "markdown",
   "metadata": {},
   "source": [
    "<img src=\"Imagenes/binary_elf_estructura.png\" width=\"400px\">"
   ]
  },
  {
   "cell_type": "markdown",
   "metadata": {},
   "source": [
    "### Program Header Table"
   ]
  },
  {
   "cell_type": "markdown",
   "metadata": {},
   "source": [
    "La <b>program header table</b> le dice al sistema como crear un <b>proceso imagen</b>. Esto arranca en un offset de este archivo que se llama <b>e_phoff</b>, esta palabra viene de <b>elf program header offset</b>, consiste en una tabla con una cantidad de entradas indicada en <b>e_phnum</b> esto es <b>elf program header number</b> cada una de tamanio <b>e_phentsize</b> esto es <b>elf program header entrie size</b>."
   ]
  },
  {
   "cell_type": "markdown",
   "metadata": {},
   "source": [
    "```c\n",
    "#define ELF_MAGIC 0x464C457FU\n",
    "```"
   ]
  },
  {
   "cell_type": "markdown",
   "metadata": {},
   "source": [
    "```c\n",
    "struct Elf {\n",
    "\tuint32_t e_magic; // must equal ELF_MAGIC\n",
    "\tuint8_t e_elf[12];\n",
    "\tuint16_t e_type;\n",
    "\tuint16_t e_machine;\n",
    "\tuint32_t e_version;\n",
    "\tuint32_t e_entry; \n",
    "\tuint32_t e_phoff; // indica el comienzo de las entradas\n",
    "\tuint32_t e_shoff;\n",
    "\tuint32_t e_flags;\n",
    "\tuint16_t e_ehsize;\n",
    "\tuint16_t e_phentsize; // es el tamanio de una entrada\n",
    "\tuint16_t e_phnum; // indica la cantidad de entradas que tiene el binario\n",
    "\tuint16_t e_shentsize;\n",
    "\tuint16_t e_shnum;\n",
    "\tuint16_t e_shstrndx;\n",
    "};\n",
    "```"
   ]
  },
  {
   "cell_type": "markdown",
   "metadata": {},
   "source": [
    "```c\n",
    "struct Proghdr {\n",
    "\tuint32_t p_type;\n",
    "\tuint32_t p_offset;\n",
    "\tuint32_t p_va;\n",
    "\tuint32_t p_pa;\n",
    "\tuint32_t p_filesz;\n",
    "\tuint32_t p_memsz;\n",
    "\tuint32_t p_flags;\n",
    "\tuint32_t p_align;\n",
    "};\n",
    "```"
   ]
  },
  {
   "cell_type": "markdown",
   "metadata": {},
   "source": [
    "<hr>"
   ]
  },
  {
   "cell_type": "markdown",
   "metadata": {},
   "source": [
    "# CR3 (Control Register 3)"
   ]
  },
  {
   "cell_type": "markdown",
   "metadata": {},
   "source": [
    "Este registro almacena la direccion de memoria donde arranca la tabla <b>page directory</b>"
   ]
  },
  {
   "cell_type": "markdown",
   "metadata": {},
   "source": [
    "<hr>"
   ]
  },
  {
   "cell_type": "markdown",
   "metadata": {},
   "source": [
    "# Alocar el environment"
   ]
  },
  {
   "cell_type": "markdown",
   "metadata": {},
   "source": [
    "La funcion <b>env_alloc</b> agarra un <b>environment</b> de la lista de <b>free environments</b> y le rellena sus caracteristicas, el <b>env_id</b>, <b>env_parent_id</b>, <b>env_type</b>, <b>env_status</b>, <b>env_runs</b> y por ultimo los registros que es el <b>env_tf</b>."
   ]
  },
  {
   "cell_type": "markdown",
   "metadata": {},
   "source": [
    "Los registros que rellena son el <b>ds (data segment)</b>, <b>es</b>, <b>ss</b>, <b>esp (stack pointer)</b>. Y el que no rellenamos es el <b>eip (instruction pointer)</b> ese lo rellenamos despues, cuando hallamos cargado el programa."
   ]
  },
  {
   "cell_type": "markdown",
   "metadata": {},
   "source": [
    "```c\n",
    "int\n",
    "env_alloc(struct Env **newenv_store, envid_t parent_id)\n",
    "{\n",
    "\tint32_t generation;\n",
    "\tint r;\n",
    "\tstruct Env *e;\n",
    "\n",
    "\tif (!(e = env_free_list))\n",
    "\t\treturn -E_NO_FREE_ENV;\n",
    "\n",
    "\t// Allocate and set up the page directory for this environment.\n",
    "\tif ((r = env_setup_vm(e)) < 0)\n",
    "\t\treturn r;\n",
    "\n",
    "\t// Generate an env_id for this environment.\n",
    "\tgeneration = (e->env_id + (1 << ENVGENSHIFT)) & ~(NENV - 1);\n",
    "\tif (generation <= 0)  // Don't create a negative env_id.\n",
    "\t\tgeneration = 1 << ENVGENSHIFT;\n",
    "\te->env_id = generation | (e - envs);\n",
    "\n",
    "\t// Set the basic status variables.\n",
    "\te->env_parent_id = parent_id;\n",
    "\te->env_type = ENV_TYPE_USER;\n",
    "\te->env_status = ENV_RUNNABLE;\n",
    "\te->env_runs = 0;\n",
    "\n",
    "\t// Clear out all the saved register state,\n",
    "\t// to prevent the register values\n",
    "\t// of a prior environment inhabiting this Env structure\n",
    "\t// from \"leaking\" into our new environment.\n",
    "\tmemset(&e->env_tf, 0, sizeof(e->env_tf));\n",
    "\n",
    "\t// Set up appropriate initial values for the segment registers.\n",
    "\t// GD_UD is the user data segment selector in the GDT, and\n",
    "\t// GD_UT is the user text segment selector (see inc/memlayout.h).\n",
    "\t// The low 2 bits of each segment register contains the\n",
    "\t// Requestor Privilege Level (RPL); 3 means user mode.  When\n",
    "\t// we switch privilege levels, the hardware does various\n",
    "\t// checks involving the RPL and the Descriptor Privilege Level\n",
    "\t// (DPL) stored in the descriptors themselves.\n",
    "\te->env_tf.tf_ds = GD_UD | 3;\n",
    "\te->env_tf.tf_es = GD_UD | 3;\n",
    "\te->env_tf.tf_ss = GD_UD | 3;\n",
    "\te->env_tf.tf_esp = USTACKTOP;\n",
    "\te->env_tf.tf_cs = GD_UT | 3;\n",
    "\t// You will set e->env_tf.tf_eip later.\n",
    "\n",
    "\t// commit the allocation\n",
    "\tenv_free_list = e->env_link;\n",
    "\t*newenv_store = e;\n",
    "\n",
    "\tcprintf(\"[%08x] new env %08x\\n\", curenv ? curenv->env_id : 0, e->env_id);\n",
    "\treturn 0;\n",
    "}\n",
    "```"
   ]
  },
  {
   "cell_type": "markdown",
   "metadata": {},
   "source": [
    "# Crear el environment"
   ]
  },
  {
   "cell_type": "markdown",
   "metadata": {},
   "source": [
    "La funcion <b>env_create</b> se llama asi porque <b>aloca</b> el environment usando la funcion <b>env_alloc</b> y luego carga el <b>binary elf</b> en el <b>environment</b> usando la funcion <b>load_icode</b>."
   ]
  },
  {
   "cell_type": "markdown",
   "metadata": {},
   "source": [
    "```c\n",
    "void\n",
    "env_create(uint8_t *binary, enum EnvType type)\n",
    "{\n",
    "\t// nuevo environment\n",
    "\tstruct Env* new_env;\n",
    "\t// alocamos el nuevo environment\n",
    "\tint err = env_alloc(&new_env, 0);\n",
    "\tif (err < 0) panic(\"env_create: %e\", err);\n",
    "\t// le cargamos el codigo del binario\n",
    "\tload_icode(new_env, binary);\n",
    "}\n",
    "```"
   ]
  },
  {
   "cell_type": "markdown",
   "metadata": {},
   "source": [
    "# Cargar y mapear el programa al environment"
   ]
  },
  {
   "cell_type": "markdown",
   "metadata": {},
   "source": [
    "Esta funcion se encarga de cargar a memoria el <b>binario elf</b> y lo mapea a memoria. Una observacion importante es que cada environment tiene su propio <b>page directory</b>, esto significa que dependiendo el proceso que estemos corriendo vamos a tener que cambiar el page directory, y esto se logra rapidamente indicando donde esta el page directory del proceso en el registro <b>cr3</b>. En la siguiente funcion vemos que como necesitamos usar el page directory del environment, antes de setearlo en cr3 hacemos un backup del cr3 de kernel. "
   ]
  },
  {
   "cell_type": "markdown",
   "metadata": {},
   "source": [
    "Otra cosa que hace esta funcion es que setea el instruction pointer del proceso, es decir donde le precesador tiene que comenzar a leer instrucciones para ejecutar. Esta direccion esta indicada en <b>elf_bin->e_entry</b>."
   ]
  },
  {
   "cell_type": "markdown",
   "metadata": {},
   "source": [
    "```c\n",
    "static void\n",
    "load_icode(struct Env *e, uint8_t *binary)\n",
    "{\n",
    "\t// antes de arrancar me guardo el anterior cr3\n",
    "\t// que contiene la direccion de memoria fisica  \n",
    "\t// donde arranca el directorio de paginas del proceso\n",
    "\tunsigned int previous_cr3 = rcr3();\n",
    "\n",
    "\t// seteo el cr3 con la direccion fisica de la tabla \n",
    "\t// de paginas de este proceso\n",
    "\tlcr3(PADDR(e->env_pgdir));\n",
    "\n",
    "\t// binario Elf\n",
    "\tstruct Elf* elf_bin = (struct Elf*) binary;\n",
    "\t// header del Binario Elf\n",
    "\tstruct Proghdr *elf_header;\n",
    "\n",
    "\t// la primer entrada se encuentra en donde esta el binario mas un offset\n",
    "\t// binary + binary->e_phoff \n",
    "\telf_header = (struct Proghdr *) (binary + elf_bin->e_phoff);\n",
    "\n",
    "\t// iteramos en las entradas del binario elf\n",
    "\tfor(\n",
    "\n",
    "\t\tunsigned int ph_i = 0;\n",
    "\n",
    "\t\t// iteramos mientras la entrada actual sea menor a la cantidad de entradas\n",
    "\t\t// osea menor que elf_bin->e_phnum\n",
    "\t\tph_i < elf_bin->e_phnum;\n",
    "\n",
    "\t\t// avanzamos en una entrada\n",
    "\t\t++ph_i,\n",
    "\n",
    "\t\t// indicamos que la proxima entrada es la actual mas el size de una entrada\n",
    "\t\t// osea es elf_header + elf_bin->e_phentsize\n",
    "\t\telf_header =\n",
    "\t\t\t(struct Proghdr *) ((char *) elf_header + elf_bin->e_phentsize)\n",
    "\t){\n",
    "\n",
    "\t\t// solo cargamos las entradas que son de tipo ELF_PROG_LOAD\n",
    "\t\tif (elf_header->p_type != ELF_PROG_LOAD) continue;\n",
    "\n",
    "\t\t// aloco memoria en donde indica la direccion virtual el tamanio indicado\n",
    "\t\tregion_alloc(\n",
    "\t\t\t/* environment */ e,                                   \n",
    "\t\t\t/* va */          (void *) elf_header->p_va,       \n",
    "\t\t\t/* size */        (size_t) elf_header->p_memsz);   \n",
    "\n",
    "\t\t// copio el esta seccion del programa en la region alocada\n",
    "\t\tmemcpy(\n",
    "\t\t\t(void *) elf_header->p_va,                             /* destino */\n",
    "\t\t\t(void *) (binary + elf_header->p_offset),              /* origen  */\n",
    "\t\t    elf_header->p_filesz);                                 /*  size   */\n",
    "\n",
    "\t\t\n",
    "\t\t// seteo .bss en 0\n",
    "\t\tmemset(\n",
    "\t\t\t(void *) (elf_header->p_va + elf_header->p_filesz),    /*    str    */\n",
    "\t\t    0,                                                     /* character */ \n",
    "\t\t    (size_t) (elf_header->p_memsz - elf_header->p_filesz));/*     n     */\n",
    "\t}\n",
    "\n",
    "\t// seteo el instruction pointer del proceso\n",
    "\te->env_tf.tf_eip = (uintptr_t) elf_bin->e_entry;\n",
    "\n",
    "\t// a continuacion vamos a allocar el stack que usara este programa\n",
    "\n",
    "\t// agarramos una pagina libre para el stack\n",
    "\tstruct PageInfo* page = page_alloc(ALLOC_ZERO);\n",
    "\n",
    "\t// mapeo esta pagina en la direccion: USTACKTOP - PGSIZE\n",
    "\tpage_insert(\n",
    "\t\te->env_pgdir,\n",
    "\t\tpage,\n",
    "\t\t(void*) (USTACKTOP - PGSIZE),\n",
    "\t\tPTE_U | PTE_W);\n",
    "\n",
    "\t// restauro el anterior page directory\n",
    "\tlcr3(previous_cr3);\n",
    "}\n",
    "```"
   ]
  },
  {
   "cell_type": "markdown",
   "metadata": {},
   "source": [
    "# Correr el environment"
   ]
  },
  {
   "cell_type": "markdown",
   "metadata": {},
   "source": [
    "La funcion <b>env_run</b> finalmente es la que corre el <b>environment</b>. Primero se fija si hay alguno corriendo y le cambia saca el flag que esta <b>RUNNING</b> luego cambia el <b>current environment</b>, osea cambia el <b>curenv</b>. Luego incrementa en 1 <b>env runs</b> y por ultimo setea en <b>cr3</b> la direccion del <b>page directory</b> del proceso."
   ]
  },
  {
   "cell_type": "markdown",
   "metadata": {},
   "source": [
    "```c\n",
    "void\n",
    "env_run(struct Env *e)\n",
    "{\n",
    "\t// si hay un environment corriendo\n",
    "\tif (curenv) {\n",
    "\t\t// le cambiamos el estado de RUNNING a RUNNABLE\n",
    "\t\tcurenv->env_status = ENV_RUNNABLE;\n",
    "\t}\n",
    "\n",
    "\t// el nuevo current environment es 'e'\n",
    "\tcurenv = e;\n",
    "\t// le asignamos el estado: RUNNING\n",
    "\tcurenv->env_status = ENV_RUNNING;\n",
    "\t// incrementamos en 1 el contador de veces \n",
    "\t// que se corrio este proceso \n",
    "\tcurenv->env_runs += 1;\n",
    "\t// seteamos en ctr3 la direccion del  \n",
    "\t// page directory del proceso\n",
    "\tlcr3((uint32_t)PADDR(curenv->env_pgdir));\n",
    "\tenv_pop_tf(&(curenv->env_tf));\n",
    "}\n",
    "```"
   ]
  }
 ],
 "metadata": {
  "kernelspec": {
   "display_name": "Python 3",
   "language": "python",
   "name": "python3"
  },
  "language_info": {
   "codemirror_mode": {
    "name": "ipython",
    "version": 3
   },
   "file_extension": ".py",
   "mimetype": "text/x-python",
   "name": "python",
   "nbconvert_exporter": "python",
   "pygments_lexer": "ipython3",
   "version": "3.6.4"
  }
 },
 "nbformat": 4,
 "nbformat_minor": 2
}
