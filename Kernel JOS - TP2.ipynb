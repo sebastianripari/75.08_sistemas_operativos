{
 "cells": [
  {
   "cell_type": "markdown",
   "metadata": {},
   "source": [
    "# Environments"
   ]
  },
  {
   "cell_type": "markdown",
   "metadata": {},
   "source": [
    "En JOS a los <b>procesos</b> se les llama <b>environments</b>. Asi que cuando hagamos referencia a un <b>environment</b> estaremos hablando de un <b>proceso</b> y viceversa."
   ]
  },
  {
   "cell_type": "markdown",
   "metadata": {},
   "source": [
    "## Estructura de un Environment "
   ]
  },
  {
   "cell_type": "markdown",
   "metadata": {},
   "source": [
    "La siguiente es la estructura de un proceso. Como podemos ver tiene diferentes cosas como el <b>env_id</b>, <b>env_parent_id</b> osea el <b>id</b> el proceso y el de su padre. Ademas tiene una estructura para guardarse los registros que utiliza, esto es <b>env_tf</b>. Luego tambien tiene una variable que guarda su estado, esta es <b>env_status</b>. Luego tenemos <b>env_runs</b> que guarda la cantidad de veces que este proceso fue corrido. Y por ultimo <b>env_pgdir</b> que es el directorio de paginas que usa este proceso."
   ]
  },
  {
   "cell_type": "markdown",
   "metadata": {},
   "source": [
    "```c\n",
    "struct Env {\n",
    "\tstruct Trapframe env_tf;\t// Saved registers\n",
    "\tstruct Env *env_link;\t\t// Next free Env\n",
    "\tenvid_t env_id;\t\t\t// Unique environment identifier\n",
    "\tenvid_t env_parent_id;\t\t// env_id of this env's parent\n",
    "\tenum EnvType env_type;\t\t// Indicates special system environments\n",
    "\tunsigned env_status;\t\t// Status of the environment\n",
    "\tuint32_t env_runs;\t\t// Number of times environment has run\n",
    "\n",
    "\t// Address space\n",
    "\tpde_t *env_pgdir;\t\t// Kernel virtual address of page dir\n",
    "};\n",
    "```"
   ]
  },
  {
   "cell_type": "markdown",
   "metadata": {},
   "source": [
    "#### Estados posibles para un Environment"
   ]
  },
  {
   "cell_type": "markdown",
   "metadata": {},
   "source": [
    "```c\n",
    "enum {\n",
    "\tENV_FREE = 0,\n",
    "\tENV_DYING,\n",
    "\tENV_RUNNABLE,\n",
    "\tENV_RUNNING,\n",
    "\tENV_NOT_RUNNABLE\n",
    "};\n",
    "```"
   ]
  },
  {
   "cell_type": "markdown",
   "metadata": {},
   "source": [
    "## Almacenamiento de los Environments"
   ]
  },
  {
   "cell_type": "markdown",
   "metadata": {},
   "source": [
    "La forma que JOS trabaja almacenando los procesos es creando un array estatico de 1024 posiciones de tamanio del struct del environment."
   ]
  },
  {
   "cell_type": "markdown",
   "metadata": {},
   "source": [
    "<img src=\"Imagenes/environments.jpg\">"
   ]
  },
  {
   "cell_type": "markdown",
   "metadata": {},
   "source": [
    "Este array JOS lo llama <b>envs</b>:"
   ]
  },
  {
   "cell_type": "markdown",
   "metadata": {},
   "source": [
    "```c\n",
    "struct Env *envs = NULL;\n",
    "```"
   ]
  },
  {
   "cell_type": "markdown",
   "metadata": {},
   "source": [
    "Al proximo libre lo llama <b>env_free_list</b>:"
   ]
  },
  {
   "cell_type": "markdown",
   "metadata": {},
   "source": [
    "```c\n",
    "static struct Env *env_free_list;\n",
    "```"
   ]
  },
  {
   "cell_type": "markdown",
   "metadata": {},
   "source": [
    "Al que esta actualmente corriendo lo llama <b>curenv</b>. Viene de <b>current environment</b>:"
   ]
  },
  {
   "cell_type": "markdown",
   "metadata": {},
   "source": [
    "```c\n",
    "struct Env *curenv = NULL;\n",
    "```"
   ]
  },
  {
   "cell_type": "markdown",
   "metadata": {},
   "source": [
    "## Creacion de los Environments"
   ]
  },
  {
   "cell_type": "markdown",
   "metadata": {},
   "source": [
    "Para crear este array hacemos los siguiente:"
   ]
  },
  {
   "cell_type": "markdown",
   "metadata": {},
   "source": [
    "```c\n",
    "void mem_init_envs() {\n",
    "\t// Creo el array que contendra todos los environments\n",
    "\tenvs = boot_alloc(NENV * sizeof(struct Env));\n",
    "\t// Inicializo el array\n",
    "\tmemset(envs, 0, NENV * sizeof(struct Env));\n",
    "}\n",
    "```"
   ]
  },
  {
   "cell_type": "markdown",
   "metadata": {},
   "source": [
    "<hr>"
   ]
  },
  {
   "cell_type": "markdown",
   "metadata": {},
   "source": [
    "# Elf Binary"
   ]
  },
  {
   "cell_type": "markdown",
   "metadata": {},
   "source": [
    "Los binarios elf son un tipo particular de binarios que cuentan con la siguiente estructura."
   ]
  },
  {
   "cell_type": "markdown",
   "metadata": {},
   "source": [
    "<img src=\"Imagenes/binary_elf_estructura.svg\" width=\"400\" height=\"50\">"
   ]
  },
  {
   "cell_type": "markdown",
   "metadata": {},
   "source": [
    "```c\n",
    "struct Elf {\n",
    "\tuint32_t e_magic;\t// must equal ELF_MAGIC\n",
    "\tuint8_t e_elf[12];\n",
    "\tuint16_t e_type;\n",
    "\tuint16_t e_machine;\n",
    "\tuint32_t e_version;\n",
    "\tuint32_t e_entry;\n",
    "\tuint32_t e_phoff;\n",
    "\tuint32_t e_shoff;\n",
    "\tuint32_t e_flags;\n",
    "\tuint16_t e_ehsize;\n",
    "\tuint16_t e_phentsize;\n",
    "\tuint16_t e_phnum;\n",
    "\tuint16_t e_shentsize;\n",
    "\tuint16_t e_shnum;\n",
    "\tuint16_t e_shstrndx;\n",
    "};\n",
    "```"
   ]
  },
  {
   "cell_type": "markdown",
   "metadata": {},
   "source": [
    "```c\n",
    "struct Proghdr {\n",
    "\tuint32_t p_type;\n",
    "\tuint32_t p_offset;\n",
    "\tuint32_t p_va;\n",
    "\tuint32_t p_pa;\n",
    "\tuint32_t p_filesz;\n",
    "\tuint32_t p_memsz;\n",
    "\tuint32_t p_flags;\n",
    "\tuint32_t p_align;\n",
    "};\n",
    "```"
   ]
  }
 ],
 "metadata": {
  "kernelspec": {
   "display_name": "Python 3",
   "language": "python",
   "name": "python3"
  },
  "language_info": {
   "codemirror_mode": {
    "name": "ipython",
    "version": 3
   },
   "file_extension": ".py",
   "mimetype": "text/x-python",
   "name": "python",
   "nbconvert_exporter": "python",
   "pygments_lexer": "ipython3",
   "version": "3.6.4"
  }
 },
 "nbformat": 4,
 "nbformat_minor": 2
}
