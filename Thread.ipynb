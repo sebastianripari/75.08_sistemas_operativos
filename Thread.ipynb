{
 "cells": [
  {
   "cell_type": "markdown",
   "metadata": {},
   "source": [
    "# Thread"
   ]
  },
  {
   "cell_type": "markdown",
   "metadata": {},
   "source": [
    "<img src=\"Imagenes/thread.png\">\n",
    "Un proceso con dos threads en ejecucion corriendo en procesador"
   ]
  },
  {
   "cell_type": "markdown",
   "metadata": {},
   "source": [
    "## Definicion"
   ]
  },
  {
   "cell_type": "markdown",
   "metadata": {},
   "source": [
    "Un <b>thread</b> es una <b>secuencia de ejecución atómica</b> que representa una <b>tarea planificable de ejecución</b>."
   ]
  },
  {
   "cell_type": "markdown",
   "metadata": {},
   "source": [
    "*. <b>Secuencia de ejecución atómica</b>: Cada thread ejecuta una secuencia de instrucciones como lo hace un bloque de código en el modelo de programación secuencial"
   ]
  },
  {
   "cell_type": "markdown",
   "metadata": {},
   "source": [
    "<b>*. tarea planificable de ejecución</b>: El sistema operativo tiene injerencia sobre el mismo en cualquier momento y puede ejecutarlo, suspenderlo y continuarlo cuando él desee."
   ]
  },
  {
   "cell_type": "markdown",
   "metadata": {},
   "source": [
    "<hr>"
   ]
  },
  {
   "cell_type": "markdown",
   "metadata": {},
   "source": [
    "## Scheduler"
   ]
  },
  {
   "cell_type": "markdown",
   "metadata": {},
   "source": [
    "Como la cantidad de threads es una cantidad que puede ser superior a la cantidad de cores, es necesario algun mecanismos que de la <b>ilusion</b> de que los esta corriendo todos a la ves. El que se encarga de esto es el <b>scheduler</b>. Supongamos que tenemos tres threads en ejecucion, entonces a partir de aqui se pueden dar por <b>ejemplo</b> estos tres escenarios."
   ]
  },
  {
   "cell_type": "markdown",
   "metadata": {},
   "source": [
    "<img src=\"Imagenes/thread_scheduler_2.jpg\">"
   ]
  },
  {
   "cell_type": "markdown",
   "metadata": {},
   "source": [
    "El primer escenario es que el procesador corra un thread a la ves, el segundo escenario es que se tengan 3 cores entonces se corran los threads de forma paralela, y el ultimo escenrario es con un unico core ejecutando un cachito de cada thread de forma alternada dirigido por el scheduler."
   ]
  },
  {
   "cell_type": "markdown",
   "metadata": {},
   "source": [
    "Entonces, dado con programa con el siguiente codigo, puede ocurrir estos diferentes tipos de ejecucion que son invisibles al usuario ya que al fin y al cabo otorgan el mismo resultado:"
   ]
  },
  {
   "cell_type": "markdown",
   "metadata": {},
   "source": [
    "<img src=\"Imagenes/thread_scheduler_1.jpg\">"
   ]
  },
  {
   "cell_type": "markdown",
   "metadata": {},
   "source": [
    "<hr>"
   ]
  },
  {
   "cell_type": "markdown",
   "metadata": {},
   "source": [
    "##  Recursos | Estado"
   ]
  },
  {
   "cell_type": "markdown",
   "metadata": {},
   "source": [
    "Los <b>threads</b> que se encuentran dentro del mismo proceso cumplen lo siguiente:"
   ]
  },
  {
   "cell_type": "markdown",
   "metadata": {},
   "source": [
    "<img src=\"Imagenes/thread_state_process.jpg\">"
   ]
  },
  {
   "cell_type": "markdown",
   "metadata": {},
   "source": [
    "Esto es, comparten el <b>codigo del programa</b>, comparten el <b>heap</b>, comparten las <b>variables globables</b>. Pero cada uno tiene su propio <b>stack</b>, sus propios <b>registros</b> del procesador, y su propia <b>metadata</b>."
   ]
  }
 ],
 "metadata": {
  "kernelspec": {
   "display_name": "Python 3",
   "language": "python",
   "name": "python3"
  },
  "language_info": {
   "codemirror_mode": {
    "name": "ipython",
    "version": 3
   },
   "file_extension": ".py",
   "mimetype": "text/x-python",
   "name": "python",
   "nbconvert_exporter": "python",
   "pygments_lexer": "ipython3",
   "version": "3.7.3"
  }
 },
 "nbformat": 4,
 "nbformat_minor": 2
}
